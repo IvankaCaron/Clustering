{
 "cells": [
  {
   "cell_type": "markdown",
   "metadata": {},
   "source": [
    "# Classification ascendante hiérarchique\n",
    "\n",
    "La classification ascendante hiérarchique (CAH) est une méthode de clustering très répandue. Elle propose une manière de répartir les observations entre elles en fonction de leurs distances les unes vis à vis des autres et offre des outils très utiles pour déterminer un nombre de classes adéquat à une problématique donnée. \n",
    "\n",
    "## Distances entre les individus  \n",
    "La matrice de distances donne les distances de chaque observation à toutes les autres, en utilisant une métrique choisie par l'utilisateur. Elle permet de mesurer la dissimilarité entre les observations et de les classer en fonction de leur proximité.  À partir de ces distances on crée une matrice de liens qui agglomère les points au fur et à mesure en partant de la distance la plus faible, recalculant à chaque fois la distance d'une nouvelle classe avec les autres classes déjà créées (ou les points encore définies comme des classes à un seul élément). \n",
    "\n",
    "Reprenons l'exemple des fromages :  "
   ]
  },
  {
   "cell_type": "code",
   "execution_count": 2,
   "metadata": {},
   "outputs": [
    {
     "data": {
      "text/html": [
       "<div>\n",
       "<style scoped>\n",
       "    .dataframe tbody tr th:only-of-type {\n",
       "        vertical-align: middle;\n",
       "    }\n",
       "\n",
       "    .dataframe tbody tr th {\n",
       "        vertical-align: top;\n",
       "    }\n",
       "\n",
       "    .dataframe thead th {\n",
       "        text-align: right;\n",
       "    }\n",
       "</style>\n",
       "<table border=\"1\" class=\"dataframe\">\n",
       "  <thead>\n",
       "    <tr style=\"text-align: right;\">\n",
       "      <th></th>\n",
       "      <th>Fromages</th>\n",
       "      <th>calories</th>\n",
       "      <th>sodium</th>\n",
       "      <th>calcium</th>\n",
       "      <th>lipides</th>\n",
       "      <th>retinol</th>\n",
       "      <th>folates</th>\n",
       "      <th>proteines</th>\n",
       "      <th>cholesterol</th>\n",
       "      <th>magnesium</th>\n",
       "    </tr>\n",
       "  </thead>\n",
       "  <tbody>\n",
       "    <tr>\n",
       "      <th>0</th>\n",
       "      <td>CarredelEst</td>\n",
       "      <td>314</td>\n",
       "      <td>353.5</td>\n",
       "      <td>72.6</td>\n",
       "      <td>26.3</td>\n",
       "      <td>51.6</td>\n",
       "      <td>30.3</td>\n",
       "      <td>21.0</td>\n",
       "      <td>70</td>\n",
       "      <td>20</td>\n",
       "    </tr>\n",
       "    <tr>\n",
       "      <th>1</th>\n",
       "      <td>Babybel</td>\n",
       "      <td>314</td>\n",
       "      <td>238.0</td>\n",
       "      <td>209.8</td>\n",
       "      <td>25.1</td>\n",
       "      <td>63.7</td>\n",
       "      <td>6.4</td>\n",
       "      <td>22.6</td>\n",
       "      <td>70</td>\n",
       "      <td>27</td>\n",
       "    </tr>\n",
       "    <tr>\n",
       "      <th>2</th>\n",
       "      <td>Beaufort</td>\n",
       "      <td>401</td>\n",
       "      <td>112.0</td>\n",
       "      <td>259.4</td>\n",
       "      <td>33.3</td>\n",
       "      <td>54.9</td>\n",
       "      <td>1.2</td>\n",
       "      <td>26.6</td>\n",
       "      <td>120</td>\n",
       "      <td>41</td>\n",
       "    </tr>\n",
       "    <tr>\n",
       "      <th>3</th>\n",
       "      <td>Bleu</td>\n",
       "      <td>342</td>\n",
       "      <td>336.0</td>\n",
       "      <td>211.1</td>\n",
       "      <td>28.9</td>\n",
       "      <td>37.1</td>\n",
       "      <td>27.5</td>\n",
       "      <td>20.2</td>\n",
       "      <td>90</td>\n",
       "      <td>27</td>\n",
       "    </tr>\n",
       "    <tr>\n",
       "      <th>4</th>\n",
       "      <td>Camembert</td>\n",
       "      <td>264</td>\n",
       "      <td>314.0</td>\n",
       "      <td>215.9</td>\n",
       "      <td>19.5</td>\n",
       "      <td>103.0</td>\n",
       "      <td>36.4</td>\n",
       "      <td>23.4</td>\n",
       "      <td>60</td>\n",
       "      <td>20</td>\n",
       "    </tr>\n",
       "    <tr>\n",
       "      <th>5</th>\n",
       "      <td>Cantal</td>\n",
       "      <td>367</td>\n",
       "      <td>256.0</td>\n",
       "      <td>264.0</td>\n",
       "      <td>28.8</td>\n",
       "      <td>48.8</td>\n",
       "      <td>5.7</td>\n",
       "      <td>23.0</td>\n",
       "      <td>90</td>\n",
       "      <td>30</td>\n",
       "    </tr>\n",
       "    <tr>\n",
       "      <th>6</th>\n",
       "      <td>Chabichou</td>\n",
       "      <td>344</td>\n",
       "      <td>192.0</td>\n",
       "      <td>87.2</td>\n",
       "      <td>27.9</td>\n",
       "      <td>90.1</td>\n",
       "      <td>36.3</td>\n",
       "      <td>19.5</td>\n",
       "      <td>80</td>\n",
       "      <td>36</td>\n",
       "    </tr>\n",
       "    <tr>\n",
       "      <th>7</th>\n",
       "      <td>Chaource</td>\n",
       "      <td>292</td>\n",
       "      <td>276.0</td>\n",
       "      <td>132.9</td>\n",
       "      <td>25.4</td>\n",
       "      <td>116.4</td>\n",
       "      <td>32.5</td>\n",
       "      <td>17.8</td>\n",
       "      <td>70</td>\n",
       "      <td>25</td>\n",
       "    </tr>\n",
       "    <tr>\n",
       "      <th>8</th>\n",
       "      <td>Cheddar</td>\n",
       "      <td>406</td>\n",
       "      <td>172.0</td>\n",
       "      <td>182.3</td>\n",
       "      <td>32.5</td>\n",
       "      <td>76.4</td>\n",
       "      <td>4.9</td>\n",
       "      <td>26.0</td>\n",
       "      <td>110</td>\n",
       "      <td>28</td>\n",
       "    </tr>\n",
       "    <tr>\n",
       "      <th>9</th>\n",
       "      <td>Comte</td>\n",
       "      <td>399</td>\n",
       "      <td>92.0</td>\n",
       "      <td>220.5</td>\n",
       "      <td>32.4</td>\n",
       "      <td>55.9</td>\n",
       "      <td>1.3</td>\n",
       "      <td>29.2</td>\n",
       "      <td>120</td>\n",
       "      <td>51</td>\n",
       "    </tr>\n",
       "    <tr>\n",
       "      <th>10</th>\n",
       "      <td>Coulomniers</td>\n",
       "      <td>308</td>\n",
       "      <td>222.0</td>\n",
       "      <td>79.2</td>\n",
       "      <td>25.6</td>\n",
       "      <td>63.6</td>\n",
       "      <td>21.1</td>\n",
       "      <td>20.5</td>\n",
       "      <td>80</td>\n",
       "      <td>13</td>\n",
       "    </tr>\n",
       "    <tr>\n",
       "      <th>11</th>\n",
       "      <td>Edam</td>\n",
       "      <td>327</td>\n",
       "      <td>148.0</td>\n",
       "      <td>272.2</td>\n",
       "      <td>24.7</td>\n",
       "      <td>65.7</td>\n",
       "      <td>5.5</td>\n",
       "      <td>24.7</td>\n",
       "      <td>80</td>\n",
       "      <td>44</td>\n",
       "    </tr>\n",
       "    <tr>\n",
       "      <th>12</th>\n",
       "      <td>Emmental</td>\n",
       "      <td>378</td>\n",
       "      <td>60.0</td>\n",
       "      <td>308.2</td>\n",
       "      <td>29.4</td>\n",
       "      <td>56.3</td>\n",
       "      <td>2.4</td>\n",
       "      <td>29.4</td>\n",
       "      <td>110</td>\n",
       "      <td>45</td>\n",
       "    </tr>\n",
       "    <tr>\n",
       "      <th>13</th>\n",
       "      <td>Fr.chevrepatemolle</td>\n",
       "      <td>206</td>\n",
       "      <td>160.0</td>\n",
       "      <td>72.8</td>\n",
       "      <td>18.5</td>\n",
       "      <td>150.5</td>\n",
       "      <td>31.0</td>\n",
       "      <td>11.1</td>\n",
       "      <td>50</td>\n",
       "      <td>16</td>\n",
       "    </tr>\n",
       "    <tr>\n",
       "      <th>14</th>\n",
       "      <td>Fr.fondu.45</td>\n",
       "      <td>292</td>\n",
       "      <td>390.0</td>\n",
       "      <td>168.5</td>\n",
       "      <td>24.0</td>\n",
       "      <td>77.4</td>\n",
       "      <td>5.5</td>\n",
       "      <td>16.8</td>\n",
       "      <td>70</td>\n",
       "      <td>20</td>\n",
       "    </tr>\n",
       "  </tbody>\n",
       "</table>\n",
       "</div>"
      ],
      "text/plain": [
       "              Fromages  calories  sodium  calcium  lipides  retinol  folates  \\\n",
       "0          CarredelEst       314   353.5     72.6     26.3     51.6     30.3   \n",
       "1              Babybel       314   238.0    209.8     25.1     63.7      6.4   \n",
       "2             Beaufort       401   112.0    259.4     33.3     54.9      1.2   \n",
       "3                 Bleu       342   336.0    211.1     28.9     37.1     27.5   \n",
       "4            Camembert       264   314.0    215.9     19.5    103.0     36.4   \n",
       "5               Cantal       367   256.0    264.0     28.8     48.8      5.7   \n",
       "6            Chabichou       344   192.0     87.2     27.9     90.1     36.3   \n",
       "7             Chaource       292   276.0    132.9     25.4    116.4     32.5   \n",
       "8              Cheddar       406   172.0    182.3     32.5     76.4      4.9   \n",
       "9                Comte       399    92.0    220.5     32.4     55.9      1.3   \n",
       "10         Coulomniers       308   222.0     79.2     25.6     63.6     21.1   \n",
       "11                Edam       327   148.0    272.2     24.7     65.7      5.5   \n",
       "12            Emmental       378    60.0    308.2     29.4     56.3      2.4   \n",
       "13  Fr.chevrepatemolle       206   160.0     72.8     18.5    150.5     31.0   \n",
       "14         Fr.fondu.45       292   390.0    168.5     24.0     77.4      5.5   \n",
       "\n",
       "    proteines  cholesterol  magnesium  \n",
       "0        21.0           70         20  \n",
       "1        22.6           70         27  \n",
       "2        26.6          120         41  \n",
       "3        20.2           90         27  \n",
       "4        23.4           60         20  \n",
       "5        23.0           90         30  \n",
       "6        19.5           80         36  \n",
       "7        17.8           70         25  \n",
       "8        26.0          110         28  \n",
       "9        29.2          120         51  \n",
       "10       20.5           80         13  \n",
       "11       24.7           80         44  \n",
       "12       29.4          110         45  \n",
       "13       11.1           50         16  \n",
       "14       16.8           70         20  "
      ]
     },
     "execution_count": 2,
     "metadata": {},
     "output_type": "execute_result"
    }
   ],
   "source": [
    "import pandas as pd\n",
    "import numpy as np\n",
    "import matplotlib.pyplot as plt\n",
    "from scipy.cluster.hierarchy import dendrogram, linkage\n",
    "from sklearn.preprocessing import StandardScaler\n",
    "\n",
    "# Import des données\n",
    "fromages = pd.read_csv('data/carac_fromages.txt', sep = \"\\t\")\n",
    "fromages.head(15)\n"
   ]
  },
  {
   "cell_type": "code",
   "execution_count": 3,
   "metadata": {},
   "outputs": [],
   "source": [
    "# en numpy et sans la colonne fromage\n",
    "fromages_np = fromages.iloc[:, [i for i in range(1, len(fromages.columns))]].to_numpy()\n",
    "fromages_type = fromages.loc[:, \"Fromages\"]\n",
    "# on centre-réduit\n",
    "sc_x = StandardScaler()\n",
    "fromage_cr = sc_x.fit_transform(fromages_np)"
   ]
  },
  {
   "cell_type": "code",
   "execution_count": 4,
   "metadata": {},
   "outputs": [
    {
     "data": {
      "text/plain": [
       "[(28, 4), (29, 9)]"
      ]
     },
     "execution_count": 4,
     "metadata": {},
     "output_type": "execute_result"
    }
   ],
   "source": [
    "# on détermine la matrice des liens \n",
    "Z = linkage(fromage_cr,method='ward',metric='euclidean')\n",
    "[Z.shape, fromages_np.shape]"
   ]
  },
  {
   "cell_type": "code",
   "execution_count": 5,
   "metadata": {},
   "outputs": [
    {
     "data": {
      "text/plain": [
       "array([[16.        , 20.        ,  0.7356902 ,  2.        ],\n",
       "       [ 1.        , 23.        ,  0.82483528,  2.        ],\n",
       "       [ 5.        , 18.        ,  0.89672969,  2.        ],\n",
       "       [21.        , 26.        ,  0.95935419,  2.        ],\n",
       "       [ 2.        ,  9.        ,  1.14064288,  2.        ],\n",
       "       [22.        , 32.        ,  1.24708148,  3.        ],\n",
       "       [25.        , 30.        ,  1.24972145,  3.        ],\n",
       "       [17.        , 31.        ,  1.32826122,  3.        ],\n",
       "       [12.        , 33.        ,  1.42130185,  3.        ],\n",
       "       [15.        , 29.        ,  1.70034202,  3.        ],\n",
       "       [ 0.        , 10.        ,  1.72093864,  2.        ],\n",
       "       [27.        , 35.        ,  1.86859757,  4.        ],\n",
       "       [ 4.        ,  7.        ,  1.88685685,  2.        ],\n",
       "       [14.        , 24.        ,  1.92182722,  2.        ],\n",
       "       [34.        , 40.        ,  2.20413434,  7.        ],\n",
       "       [11.        , 36.        ,  2.35092294,  4.        ],\n",
       "       [ 8.        , 44.        ,  2.69019816,  5.        ],\n",
       "       [ 6.        , 41.        ,  2.8108311 ,  3.        ],\n",
       "       [ 3.        , 39.        ,  2.83244751,  3.        ],\n",
       "       [43.        , 45.        ,  3.09641867, 12.        ],\n",
       "       [28.        , 38.        ,  3.14971979,  4.        ],\n",
       "       [19.        , 37.        ,  3.55080524,  4.        ],\n",
       "       [42.        , 47.        ,  3.5931852 ,  5.        ],\n",
       "       [13.        , 46.        ,  4.0451875 ,  4.        ],\n",
       "       [48.        , 51.        ,  5.61774478, 17.        ],\n",
       "       [50.        , 53.        ,  7.92082284, 21.        ],\n",
       "       [52.        , 54.        ,  9.64780285, 25.        ],\n",
       "       [49.        , 55.        , 14.55808188, 29.        ]])"
      ]
     },
     "execution_count": 5,
     "metadata": {},
     "output_type": "execute_result"
    }
   ],
   "source": [
    "Z"
   ]
  },
  {
   "cell_type": "code",
   "execution_count": 10,
   "metadata": {},
   "outputs": [
    {
     "data": {
      "image/png": "[encoded data removed]",
      "text/plain": [
       "<Figure size 432x288 with 1 Axes>"
      ]
     },
     "metadata": {
      "needs_background": "light"
     },
     "output_type": "display_data"
    }
   ],
   "source": [
    "plt.title('Hierarchical Clustering Dendrogram (truncated)')\n",
    "plt.xlabel('sample index or (cluster size)')\n",
    "plt.ylabel('distance')\n",
    "dendrogram(\n",
    "    Z,\n",
    "    truncate_mode='lastp',  # show only the last p merged clusters\n",
    "    p=12,  # show only the last p merged clusters\n",
    "    leaf_rotation=90.,\n",
    "    leaf_font_size=12.,\n",
    "    show_contracted=True,  # to get a distribution impression in truncated branches\n",
    ")\n",
    "plt.show()"
   ]
  },
  {
   "cell_type": "markdown",
   "metadata": {},
   "source": [
    "### Eye Candy\n",
    "\n",
    "Even though this already makes for quite a nice visualization, we can pimp it even more by also annotating the distances inside the dendrogram by using some of the useful return values dendrogram():"
   ]
  },
  {
   "cell_type": "code",
   "execution_count": 11,
   "metadata": {},
   "outputs": [],
   "source": [
    "def fancy_dendrogram(*args, **kwargs):\n",
    "    max_d = kwargs.pop('max_d', None)\n",
    "    if max_d and 'color_threshold' not in kwargs:\n",
    "        kwargs['color_threshold'] = max_d\n",
    "    annotate_above = kwargs.pop('annotate_above', 0)\n",
    "\n",
    "    ddata = dendrogram(*args, **kwargs)\n",
    "\n",
    "    if not kwargs.get('no_plot', False):\n",
    "        plt.title('Hierarchical Clustering Dendrogram (truncated)')\n",
    "        plt.xlabel('sample index or (cluster size)')\n",
    "        plt.ylabel('distance')\n",
    "        for i, d, c in zip(ddata['icoord'], ddata['dcoord'], ddata['color_list']):\n",
    "            x = 0.5 * sum(i[1:3])\n",
    "            y = d[1]\n",
    "            if y > annotate_above:\n",
    "                plt.plot(x, y, 'o', c=c)\n",
    "                plt.annotate(\"%.3g\" % y, (x, y), xytext=(0, -5),\n",
    "                             textcoords='offset points',\n",
    "                             va='top', ha='center')\n",
    "        if max_d:\n",
    "            plt.axhline(y=max_d, c='k')\n",
    "    return ddata"
   ]
  },
  {
   "cell_type": "code",
   "execution_count": 14,
   "metadata": {},
   "outputs": [
    {
     "data": {
      "image/png": "[encoded data removed]",
      "text/plain": [
       "<Figure size 432x288 with 1 Axes>"
      ]
     },
     "metadata": {
      "needs_background": "light"
     },
     "output_type": "display_data"
    }
   ],
   "source": [
    "\n",
    "\n",
    "fancy_dendrogram(\n",
    "    Z,\n",
    "    truncate_mode='lastp',\n",
    "    p=12,\n",
    "    leaf_rotation=90.,\n",
    "    leaf_font_size=12.,\n",
    "    show_contracted=True,\n",
    "    annotate_above=7,  # useful in small plots so annotations don't overlap\n",
    ")\n",
    "plt.show()\n",
    "\n"
   ]
  },
  {
   "cell_type": "code",
   "execution_count": 22,
   "metadata": {},
   "outputs": [
    {
     "data": {
      "text/plain": [
       "array([4, 4, 3, 4, 2, 4, 2, 2, 4, 3, 4, 4, 3, 2, 4, 1, 1, 4, 4, 3, 1, 4,\n",
       "       4, 4, 4, 4, 4, 4, 1], dtype=int32)"
      ]
     },
     "execution_count": 22,
     "metadata": {},
     "output_type": "execute_result"
    }
   ],
   "source": [
    "\n",
    "\n",
    "from scipy.cluster.hierarchy import fcluster\n",
    "max_d = 7\n",
    "clusters = fcluster(Z, max_d, criterion='distance')\n",
    "clusters\n",
    "\n"
   ]
  },
  {
   "cell_type": "code",
   "execution_count": null,
   "metadata": {},
   "outputs": [],
   "source": [
    "#How to get centroids from SciPy's hierarchical agglomerative clustering?\n",
    "#https://stackoverflow.com/questions/9362304/how-to-get-centroids-from-scipys-hierarchical-agglomerative-clustering"
   ]
  },
  {
   "cell_type": "code",
   "execution_count": 25,
   "metadata": {},
   "outputs": [],
   "source": [
    "lens = {}      # will contain the lengths for each cluster\n",
    "centroids = {} # will contain the centroids of each cluster\n",
    "for idx,clno in enumerate(clusters):\n",
    "    centroids.setdefault(clno,np.zeros(9)) \n",
    "    centroids[clno] += fromage_cr[idx,:]\n",
    "    lens.setdefault(clno,0)\n",
    "    lens[clno] += 1\n",
    "# Divide by number of observations in each cluster to get the centroid\n",
    "for clno in centroids:\n",
    "    centroids[clno] /= float(lens[clno])"
   ]
  },
  {
   "cell_type": "code",
   "execution_count": 26,
   "metadata": {},
   "outputs": [
    {
     "data": {
      "text/plain": [
       "{4: array([ 0.34416116,  0.49357194,  0.05143329,  0.37484078, -0.31453491,\n",
       "        -0.28634902,  0.17656839,  0.27983707, -0.00747777]),\n",
       " 3: array([ 0.99335436, -0.78740727,  1.33217289,  0.81261631, -0.13844465,\n",
       "        -0.91023049,  1.47045163,  1.18589089,  1.6890194 ]),\n",
       " 2: array([-0.26058013,  0.23798202, -0.82133586, -0.16694787,  1.99798908,\n",
       "         1.82644787, -0.32447   , -0.34539305, -0.24416756]),\n",
       " 1: array([-2.19545917, -1.54825548, -0.7294285 , -2.23874174, -0.52277108,\n",
       "         0.30076596, -1.89639728, -2.02980539, -1.41307131])}"
      ]
     },
     "execution_count": 26,
     "metadata": {},
     "output_type": "execute_result"
    }
   ],
   "source": [
    "centroids"
   ]
  },
  {
   "cell_type": "code",
   "execution_count": 36,
   "metadata": {},
   "outputs": [
    {
     "data": {
      "text/plain": [
       "{4: array([ 0.34416116,  0.49357194,  0.05143329,  0.37484078, -0.31453491,\n",
       "        -0.28634902,  0.17656839,  0.27983707, -0.00747777]),\n",
       " 3: array([ 0.99335436, -0.78740727,  1.33217289,  0.81261631, -0.13844465,\n",
       "        -0.91023049,  1.47045163,  1.18589089,  1.6890194 ]),\n",
       " 2: array([-0.26058013,  0.23798202, -0.82133586, -0.16694787,  1.99798908,\n",
       "         1.82644787, -0.32447   , -0.34539305, -0.24416756]),\n",
       " 1: array([-2.19545917, -1.54825548, -0.7294285 , -2.23874174, -0.52277108,\n",
       "         0.30076596, -1.89639728, -2.02980539, -1.41307131])}"
      ]
     },
     "execution_count": 36,
     "metadata": {},
     "output_type": "execute_result"
    }
   ],
   "source": [
    "lens = {}      # will contain the lengths for each cluster\n",
    "centroids = {} # will contain the centroids of each cluster\n",
    "for idx,clno in enumerate(clusters):\n",
    "    centroids.setdefault(clno,np.zeros(9)) \n",
    "    centroids[clno] += fromage_cr[idx,:]\n",
    "    lens.setdefault(clno,0)\n",
    "    lens[clno] += 1\n",
    "# Divide by number of observations in each cluster to get the centroid\n",
    "for clno in centroids:\n",
    "    centroids[clno] /= float(lens[clno])\n",
    "centroids"
   ]
  },
  {
   "cell_type": "code",
   "execution_count": 32,
   "metadata": {},
   "outputs": [],
   "source": []
  },
  {
   "cell_type": "code",
   "execution_count": null,
   "metadata": {},
   "outputs": [],
   "source": []
  },
  {
   "cell_type": "markdown",
   "metadata": {},
   "source": [
    "\n",
    "Knowing k:\n",
    "\n",
    "Another way starting from the dendrogram is to say \"i can see i have k=2\" clusters. You can then use:\n"
   ]
  },
  {
   "cell_type": "code",
   "execution_count": 20,
   "metadata": {},
   "outputs": [
    {
     "data": {
      "text/plain": [
       "array([5, 4, 3, 5, 2, 4, 2, 2, 4, 3, 5, 4, 3, 2, 5, 1, 1, 4, 4, 3, 1, 4,\n",
       "       4, 4, 5, 4, 4, 4, 1], dtype=int32)"
      ]
     },
     "execution_count": 20,
     "metadata": {},
     "output_type": "execute_result"
    }
   ],
   "source": [
    "\n",
    "\n",
    "k=5\n",
    "fcluster(Z, k, criterion='maxclust')\n",
    "\n"
   ]
  },
  {
   "cell_type": "code",
   "execution_count": null,
   "metadata": {},
   "outputs": [],
   "source": []
  },
  {
   "cell_type": "code",
   "execution_count": 7,
   "metadata": {},
   "outputs": [
    {
     "data": {
      "text/plain": [
       "array([15.29731829, 11.18149962,  7.81345158, 17.80909842, 13.46333989,\n",
       "       13.50052696, 11.10635586, 13.65540418,  9.16136197, 18.89366863,\n",
       "       18.74255797, 17.72921839,  4.6267614 , 27.40723131, 16.9590382 ,\n",
       "       25.55034445, 23.37319426, 23.13863417, 38.2043589 , 21.85926666,\n",
       "       17.60468326, 37.71160667, 26.45662058, 47.26345794, 51.55216902,\n",
       "       55.32111488, 56.86878328,  6.40352784, 20.22419579, 14.03922129,\n",
       "       22.873091  , 25.02359943, 17.92354423, 14.91159859, 15.28942484,\n",
       "       13.06916222, 28.72437014, 16.31342667, 13.08447138, 37.48202857,\n",
       "       16.59303901, 22.41605627, 18.81340425, 16.27975758, 48.50938148,\n",
       "       31.0387675 , 23.05278535, 47.68295043, 26.21775483, 56.92953523,\n",
       "       60.92908205, 64.56659165, 65.15828468, 17.88865344,  9.48996805,\n",
       "       22.04819145, 23.34790361, 17.72529885, 16.59141874, 14.92132007,\n",
       "        9.4699166 , 27.89165695, 11.08965066, 10.86511965, 36.7655995 ,\n",
       "       19.13412339, 26.40485806, 23.12279793, 21.20723941, 47.72670774,\n",
       "       30.6280258 , 23.83367611, 47.18337496, 29.35835122, 56.43835561,\n",
       "       60.50072631, 64.11381506, 64.96639549, 25.49574211,  6.17112526,\n",
       "        5.75189648,  6.49123196, 11.45484158,  6.82268737, 26.41174002,\n",
       "       11.03751437, 25.5119631 ,  7.34345657, 19.78760919, 14.35048653,\n",
       "       22.47211207, 21.31731612, 22.30489808, 30.81504575, 14.20555178,\n",
       "       11.64970465, 29.96559804, 21.85228517, 40.00875658, 44.4911457 ,\n",
       "       48.47152917, 50.38775044, 30.49608711, 31.16106382, 26.64648571,\n",
       "       26.0207373 , 23.88123245,  2.31013921, 36.13211754,  2.92520688,\n",
       "       19.2252503 , 44.8456354 , 28.55634392, 35.670732  , 32.30773172,\n",
       "       30.08092756, 55.50518047, 39.0517143 , 32.90606149, 55.30836251,\n",
       "       38.76127422, 64.22650887, 68.16869399, 71.59868554, 72.34658022,\n",
       "        3.60555224,  5.09966569, 10.05138561,  7.62924932, 31.13237127,\n",
       "        5.94863701, 30.82870923, 11.3778417 , 14.99719808, 11.79908751,\n",
       "       18.60329502, 18.42404171, 20.31042554, 26.35185094,  8.75328696,\n",
       "        6.34879069, 25.18936686, 16.9064898 , 35.3850632 , 39.9191536 ,\n",
       "       44.02921893, 45.94760855,  8.06264029, 13.34276732, 10.05997311,\n",
       "       32.03470065,  5.51207834, 31.16738586, 12.58776097, 14.06808103,\n",
       "       15.30400747, 22.16021149, 22.00993102, 23.8223639 , 25.16764372,\n",
       "        8.80965344,  9.554841  , 24.23823059, 20.21916493, 34.42498552,\n",
       "       39.01927208, 43.12224219, 45.32231743,  5.38596849,  2.85279584,\n",
       "       27.03986308, 10.83014143, 27.31871207,  7.70404573, 19.66639656,\n",
       "        7.94014087, 15.99546411, 14.93981303, 16.19452304, 30.92129332,\n",
       "       13.20294328,  6.77788329, 29.83504451, 15.79182347, 39.69130471,\n",
       "       44.05067387, 48.03347554, 49.50785952,  5.00778029, 25.96323905,\n",
       "       15.17234568, 27.22529598,  9.28711611, 23.44382278,  3.44444413,\n",
       "       11.94194699, 10.09607803, 10.90831481, 34.47906635, 16.88157068,\n",
       "        8.39849896, 33.23728445, 13.33734516, 42.82067413, 47.01322977,\n",
       "       50.91832007, 51.97667736, 24.22809163, 13.45467614, 24.61777382,\n",
       "        5.20087067, 22.32159956,  8.15004635, 16.70268886, 15.04105003,\n",
       "       15.66147065, 33.51043166, 15.90913875,  9.18826502, 32.56659109,\n",
       "       17.30601919, 42.24152038, 46.51552839, 50.40994082, 51.7041727 ,\n",
       "       36.85134737,  5.00275213, 19.800009  , 45.6205379 , 28.30895406,\n",
       "       35.07049278, 31.60993302, 29.19307199, 56.35505253, 39.6741908 ,\n",
       "       33.12624959, 56.0848046 , 38.39794438, 65.00142382, 68.90891498,\n",
       "       72.33142592, 72.93690593, 36.29049922, 17.14651082,  9.11661039,\n",
       "       16.03847367, 21.06359484, 21.8835053 , 24.37065873, 20.53064891,\n",
       "        3.41193114,  8.41604555, 19.31254003, 17.9370439 , 29.66573958,\n",
       "       34.33117287, 38.56832943, 40.86591504, 19.72311393, 44.87873288,\n",
       "       29.90343387, 37.34495089, 34.08597554, 32.04518906, 55.37565385,\n",
       "       39.27588093, 33.64177053, 55.28029989, 40.13300875, 64.11645284,\n",
       "       68.03975857, 71.42991168, 72.23960094, 26.09750366, 12.53730925,\n",
       "       21.10901215, 18.83587874, 18.65018041, 37.19381219, 19.93759565,\n",
       "       14.16522394, 36.39771198, 22.21505478, 46.08318355, 50.33873209,\n",
       "       54.154323  , 55.44975141, 23.53766231, 26.38628921, 28.3084454 ,\n",
       "       31.2793027 , 11.48025136,  7.06357784, 15.6465179 , 10.90547855,\n",
       "       22.12214901, 20.70393045, 25.56717676, 29.99013506, 32.96391997,\n",
       "        8.60901316,  7.15622215,  8.61579166, 34.19876846, 17.13587104,\n",
       "        8.15105622, 32.93240373, 10.33782049, 42.11498694, 46.15218072,\n",
       "       49.99244399, 50.78400072,  4.12486997,  7.34984591, 35.70945274,\n",
       "       20.90959493, 13.10498548, 34.1440388 ,  5.6423396 , 42.4449117 ,\n",
       "       46.13414608, 49.84383877, 50.18811278,  3.60561607, 38.2894445 ,\n",
       "       22.22869419, 13.65824153, 36.55970566,  8.7477789 , 45.473935  ,\n",
       "       49.29616634, 53.06358622, 53.46959791, 41.43753951, 25.04197799,\n",
       "       16.1714575 , 39.86952121, 12.30734489, 48.71096264, 52.48706092,\n",
       "       56.18228429, 56.44014973, 18.38485358, 26.5368888 ,  7.36524114,\n",
       "       31.07893438,  9.61025938, 14.7402468 , 19.33702755, 23.58749082,\n",
       "        9.06426332, 16.67922845, 17.02356785, 27.27803416, 31.94938848,\n",
       "       36.26603209, 38.53765335, 25.09983657, 10.82794596, 34.7889672 ,\n",
       "       39.05249101, 43.08333065, 44.38648599, 29.03798041, 14.14562977,\n",
       "       19.35790401, 24.20038006, 28.44694991, 37.70242613, 41.49723544,\n",
       "       45.35845344, 45.96216866,  5.41333248, 10.25872156, 15.52190798,\n",
       "        4.89718898, 10.63264819,  7.07890106])"
      ]
     },
     "execution_count": 7,
     "metadata": {},
     "output_type": "execute_result"
    }
   ],
   "source": [
    "from scipy.spatial.distance import pdist\n",
    "y = pdist(Z)\n",
    "y"
   ]
  },
  {
   "cell_type": "code",
   "execution_count": 9,
   "metadata": {},
   "outputs": [
    {
     "data": {
      "text/plain": [
       "array([[ 4.        , 10.        ,  2.31013921,  2.        ],\n",
       "       [ 7.        ,  9.        ,  2.85279584,  2.        ],\n",
       "       [11.        , 20.        ,  3.41193114,  2.        ],\n",
       "       [ 8.        , 15.        ,  3.44444413,  2.        ],\n",
       "       [ 5.        ,  6.        ,  3.60555224,  2.        ],\n",
       "       [17.        , 18.        ,  3.60561607,  2.        ],\n",
       "       [12.        , 28.        ,  3.93166584,  3.        ],\n",
       "       [ 0.        , 13.        ,  4.6267614 ,  2.        ],\n",
       "       [25.        , 26.        ,  4.89718898,  2.        ],\n",
       "       [16.        , 23.        ,  5.6423396 ,  2.        ],\n",
       "       [ 3.        , 32.        ,  5.68625961,  3.        ],\n",
       "       [29.        , 31.        ,  6.39439155,  4.        ],\n",
       "       [ 1.        ,  2.        ,  6.40352784,  2.        ],\n",
       "       [21.        , 39.        ,  7.35610045,  5.        ],\n",
       "       [19.        , 22.        ,  7.36524114,  2.        ],\n",
       "       [24.        , 36.        ,  7.82797249,  3.        ],\n",
       "       [33.        , 37.        ,  7.97171089,  4.        ],\n",
       "       [14.        , 30.        ,  7.97452443,  3.        ],\n",
       "       [38.        , 41.        ,  8.84401272,  8.        ],\n",
       "       [35.        , 46.        , 10.20041199, 10.        ],\n",
       "       [27.        , 43.        , 10.82052078,  4.        ],\n",
       "       [34.        , 40.        , 11.89744113,  5.        ],\n",
       "       [45.        , 47.        , 14.90943567, 13.        ],\n",
       "       [44.        , 50.        , 16.68552326, 17.        ],\n",
       "       [42.        , 48.        , 18.774426  ,  6.        ],\n",
       "       [49.        , 51.        , 25.51702059, 22.        ],\n",
       "       [52.        , 53.        , 42.88614992, 28.        ]])"
      ]
     },
     "execution_count": 9,
     "metadata": {},
     "output_type": "execute_result"
    }
   ],
   "source": [
    "from scipy.cluster.hierarchy import centroid\n",
    "centr = centroid(y)\n",
    "centr"
   ]
  },
  {
   "cell_type": "markdown",
   "metadata": {},
   "source": [
    "## Matrice de liens\n",
    "Après avoir classé les individus en fonction de leur distance les uns vis à vis des autres (avec la matrice de distance), la matrice de liens renvoyée contient n-1 lignes et 4 colonnes. A chaque itération de l'algorithme, les indices Z[i, 0] et Z[i, 1] sont combinés pour former une classe n+i. Lorsque les indices sont inférieurs à n, ils se réfèrent à des clusters uniquement constitués d'observations de départ. La distance entre deux clusters est donnée par la 3e colonne. La dernière valeur explicite le nombre d'observations originales dans le cluster ainsi formé.  \n",
    "\n"
   ]
  },
  {
   "cell_type": "markdown",
   "metadata": {},
   "source": [
    "## Le dendogramme\n",
    "\n",
    "Cette matrice des liens nous permet de construire le dendogramme. Cet outil est au coeur de l'analyse en CAH. il représente visuellement l'agglomération progressive des classes en fonction de la mesure de leur similarité. Au début, chaque observation est une classe, puis on regroupe les observations les plus semblables dans une classe commune, etc...  \n",
    "\n",
    "Sur notre base de données, le dendogramme donne le résultat suivant :  "
   ]
  },
  {
   "cell_type": "code",
   "execution_count": 5,
   "metadata": {},
   "outputs": [
    {
     "data": {
      "text/plain": [
       "array(['CarredelEst', 'Babybel', 'Beaufort', 'Bleu', 'Camembert',\n",
       "       'Cantal', 'Chabichou', 'Chaource', 'Cheddar', 'Comte',\n",
       "       'Coulomniers', 'Edam', 'Emmental', 'Fr.chevrepatemolle',\n",
       "       'Fr.fondu.45', 'Fr.frais20nat.', 'Fr.frais40nat.', 'Maroilles',\n",
       "       'Morbier', 'Parmesan', 'Petitsuisse40', 'PontlEveque', 'Pyrenees',\n",
       "       'Reblochon', 'Rocquefort', 'SaintPaulin', 'Tome', 'Vacherin',\n",
       "       'Yaourtlaitent.nat.'], dtype=object)"
      ]
     },
     "execution_count": 5,
     "metadata": {},
     "output_type": "execute_result"
    }
   ],
   "source": [
    "fromages_type.to_numpy()"
   ]
  },
  {
   "cell_type": "code",
   "execution_count": 6,
   "metadata": {},
   "outputs": [
    {
     "data": {
      "image/png": "[encoded data removed]",
      "text/plain": [
       "<Figure size 864x864 with 1 Axes>"
      ]
     },
     "metadata": {
      "needs_background": "light"
     },
     "output_type": "display_data"
    }
   ],
   "source": [
    "fig = plt.figure(figsize=(12,12))\n",
    "ax = fig.add_subplot(1,1,1)\n",
    "ax.set_title(\"Dendogramme de classification des fromages\")\n",
    "dendrogram(Z,labels=fromages_type.to_numpy(), orientation='top',color_threshold=0)\n",
    "plt.show()"
   ]
  },
  {
   "cell_type": "markdown",
   "metadata": {},
   "source": [
    "Avec une régle, on peut choisir différents niveaux de classification selon l'abitrage que l'on souhaite faire entre variance intra-classes et inter-classes. Par exemple : "
   ]
  },
  {
   "cell_type": "code",
   "execution_count": 7,
   "metadata": {},
   "outputs": [
    {
     "data": {
      "image/png": "[encoded data removed]",
      "text/plain": [
       "<Figure size 864x864 with 1 Axes>"
      ]
     },
     "metadata": {
      "needs_background": "light"
     },
     "output_type": "display_data"
    }
   ],
   "source": [
    "fig = plt.figure(figsize=(12,12))\n",
    "ax = fig.add_subplot(1,1,1)\n",
    "ax.set_title(\"Dendogramme de classification des fromages\")\n",
    "dendrogram(Z,labels=fromages_type.to_numpy(), orientation='top',color_threshold=0)\n",
    "ax.axhline(y=2.5,c=\"red\",linewidth=1,zorder=0)\n",
    "ax.axhline(y=4.5,c=\"green\",linewidth=1,zorder=0)\n",
    "ax.axhline(y=6,c=\"black\",linewidth=1,zorder=0)\n",
    "plt.show()"
   ]
  },
  {
   "cell_type": "markdown",
   "metadata": {},
   "source": [
    "On peut colorer le dendogramme en fonction de la distance maximum souhaitée à l'intérieur des classes : \n"
   ]
  },
  {
   "cell_type": "code",
   "execution_count": 8,
   "metadata": {},
   "outputs": [
    {
     "data": {
      "image/png": "[encoded data removed]",
      "text/plain": [
       "<Figure size 864x864 with 1 Axes>"
      ]
     },
     "metadata": {
      "needs_background": "light"
     },
     "output_type": "display_data"
    }
   ],
   "source": [
    "fig = plt.figure(figsize=(12,12))\n",
    "ax = fig.add_subplot(1,1,1)\n",
    "ax.set_title(\"Dendogramme de classification des fromages\")\n",
    "dendrogram(Z,labels=fromages_type.to_numpy(), orientation='top',color_threshold=2.5)\n",
    "ax.axhline(y=2.5,c=\"red\",linewidth=1,zorder=0)\n",
    "plt.show()"
   ]
  },
  {
   "cell_type": "code",
   "execution_count": 9,
   "metadata": {},
   "outputs": [
    {
     "data": {
      "image/png": "[encoded data removed]",
      "text/plain": [
       "<Figure size 864x864 with 1 Axes>"
      ]
     },
     "metadata": {
      "needs_background": "light"
     },
     "output_type": "display_data"
    }
   ],
   "source": [
    "fig = plt.figure(figsize=(12,12))\n",
    "ax = fig.add_subplot(1,1,1)\n",
    "ax.set_title(\"Dendogramme de classification des fromages\")\n",
    "dendrogram(Z,labels=fromages_type.to_numpy(), orientation='top',color_threshold=4.5)\n",
    "ax.axhline(y=4.5,c=\"green\",linewidth=1,zorder=0)\n",
    "plt.show()"
   ]
  },
  {
   "cell_type": "code",
   "execution_count": 10,
   "metadata": {
    "scrolled": true
   },
   "outputs": [
    {
     "data": {
      "image/png": "[encoded data removed]",
      "text/plain": [
       "<Figure size 864x864 with 1 Axes>"
      ]
     },
     "metadata": {
      "needs_background": "light"
     },
     "output_type": "display_data"
    }
   ],
   "source": [
    "fig = plt.figure(figsize=(12,12))\n",
    "ax = fig.add_subplot(1,1,1)\n",
    "ax.set_title(\"Dendogramme de classification des fromages\")\n",
    "dendrogram(Z,labels=fromages_type.to_numpy(), orientation='top',color_threshold=6)\n",
    "ax.axhline(y=6,c=\"black\",linewidth=1,zorder=0)\n",
    "plt.show()"
   ]
  },
  {
   "cell_type": "markdown",
   "metadata": {},
   "source": [
    "## Découpage en classes  \n",
    "Selon l'étude du dendogramme on choisit un nombre de classes. Je le fixe personnellement à 5 car je trouve que l'homogénéité à l'intérieur de chaque classe est satisfaisante. On utilise la fonction `fcluster` et le seuil correspondant au nombre de classes choisi :   "
   ]
  },
  {
   "cell_type": "code",
   "execution_count": 11,
   "metadata": {},
   "outputs": [
    {
     "data": {
      "text/plain": [
       "array([1, 1, 1, 1, 2, 2, 2, 2, 3, 3, 3, 3, 4, 4, 4, 4, 4, 4, 4, 4, 4, 4,\n",
       "       4, 4, 5, 5, 5, 5, 5], dtype=int32)"
      ]
     },
     "execution_count": 11,
     "metadata": {},
     "output_type": "execute_result"
    }
   ],
   "source": [
    "from scipy.cluster.hierarchy import fcluster\n",
    "classes_cah = fcluster(Z, t = 4.5, criterion = 'distance')\n",
    "\n",
    "# On trie par index\n",
    "index_cah = np.argsort(classes_cah)\n",
    "classes_cah[index_cah]"
   ]
  },
  {
   "cell_type": "markdown",
   "metadata": {},
   "source": [
    "On affiche les labels des fromages et la classe à laquelle ils appartiennent : "
   ]
  },
  {
   "cell_type": "code",
   "execution_count": 12,
   "metadata": {},
   "outputs": [
    {
     "data": {
      "text/html": [
       "<div>\n",
       "<style scoped>\n",
       "    .dataframe tbody tr th:only-of-type {\n",
       "        vertical-align: middle;\n",
       "    }\n",
       "\n",
       "    .dataframe tbody tr th {\n",
       "        vertical-align: top;\n",
       "    }\n",
       "\n",
       "    .dataframe thead th {\n",
       "        text-align: right;\n",
       "    }\n",
       "</style>\n",
       "<table border=\"1\" class=\"dataframe\">\n",
       "  <thead>\n",
       "    <tr style=\"text-align: right;\">\n",
       "      <th></th>\n",
       "      <th>Fromage</th>\n",
       "      <th>Groupe</th>\n",
       "    </tr>\n",
       "  </thead>\n",
       "  <tbody>\n",
       "    <tr>\n",
       "      <th>0</th>\n",
       "      <td>Yaourtlaitent.nat.</td>\n",
       "      <td>1</td>\n",
       "    </tr>\n",
       "    <tr>\n",
       "      <th>1</th>\n",
       "      <td>Petitsuisse40</td>\n",
       "      <td>1</td>\n",
       "    </tr>\n",
       "    <tr>\n",
       "      <th>2</th>\n",
       "      <td>Fr.frais40nat.</td>\n",
       "      <td>1</td>\n",
       "    </tr>\n",
       "    <tr>\n",
       "      <th>3</th>\n",
       "      <td>Fr.frais20nat.</td>\n",
       "      <td>1</td>\n",
       "    </tr>\n",
       "    <tr>\n",
       "      <th>4</th>\n",
       "      <td>Camembert</td>\n",
       "      <td>2</td>\n",
       "    </tr>\n",
       "    <tr>\n",
       "      <th>5</th>\n",
       "      <td>Chabichou</td>\n",
       "      <td>2</td>\n",
       "    </tr>\n",
       "    <tr>\n",
       "      <th>6</th>\n",
       "      <td>Chaource</td>\n",
       "      <td>2</td>\n",
       "    </tr>\n",
       "    <tr>\n",
       "      <th>7</th>\n",
       "      <td>Fr.chevrepatemolle</td>\n",
       "      <td>2</td>\n",
       "    </tr>\n",
       "    <tr>\n",
       "      <th>8</th>\n",
       "      <td>Beaufort</td>\n",
       "      <td>3</td>\n",
       "    </tr>\n",
       "    <tr>\n",
       "      <th>9</th>\n",
       "      <td>Parmesan</td>\n",
       "      <td>3</td>\n",
       "    </tr>\n",
       "    <tr>\n",
       "      <th>10</th>\n",
       "      <td>Comte</td>\n",
       "      <td>3</td>\n",
       "    </tr>\n",
       "    <tr>\n",
       "      <th>11</th>\n",
       "      <td>Emmental</td>\n",
       "      <td>3</td>\n",
       "    </tr>\n",
       "    <tr>\n",
       "      <th>12</th>\n",
       "      <td>PontlEveque</td>\n",
       "      <td>4</td>\n",
       "    </tr>\n",
       "    <tr>\n",
       "      <th>13</th>\n",
       "      <td>Morbier</td>\n",
       "      <td>4</td>\n",
       "    </tr>\n",
       "    <tr>\n",
       "      <th>14</th>\n",
       "      <td>Maroilles</td>\n",
       "      <td>4</td>\n",
       "    </tr>\n",
       "    <tr>\n",
       "      <th>15</th>\n",
       "      <td>Edam</td>\n",
       "      <td>4</td>\n",
       "    </tr>\n",
       "    <tr>\n",
       "      <th>16</th>\n",
       "      <td>Pyrenees</td>\n",
       "      <td>4</td>\n",
       "    </tr>\n",
       "    <tr>\n",
       "      <th>17</th>\n",
       "      <td>SaintPaulin</td>\n",
       "      <td>4</td>\n",
       "    </tr>\n",
       "    <tr>\n",
       "      <th>18</th>\n",
       "      <td>Cheddar</td>\n",
       "      <td>4</td>\n",
       "    </tr>\n",
       "    <tr>\n",
       "      <th>19</th>\n",
       "      <td>Cantal</td>\n",
       "      <td>4</td>\n",
       "    </tr>\n",
       "    <tr>\n",
       "      <th>20</th>\n",
       "      <td>Tome</td>\n",
       "      <td>4</td>\n",
       "    </tr>\n",
       "    <tr>\n",
       "      <th>21</th>\n",
       "      <td>Babybel</td>\n",
       "      <td>4</td>\n",
       "    </tr>\n",
       "    <tr>\n",
       "      <th>22</th>\n",
       "      <td>Vacherin</td>\n",
       "      <td>4</td>\n",
       "    </tr>\n",
       "    <tr>\n",
       "      <th>23</th>\n",
       "      <td>Reblochon</td>\n",
       "      <td>4</td>\n",
       "    </tr>\n",
       "    <tr>\n",
       "      <th>24</th>\n",
       "      <td>CarredelEst</td>\n",
       "      <td>5</td>\n",
       "    </tr>\n",
       "    <tr>\n",
       "      <th>25</th>\n",
       "      <td>Coulomniers</td>\n",
       "      <td>5</td>\n",
       "    </tr>\n",
       "    <tr>\n",
       "      <th>26</th>\n",
       "      <td>Bleu</td>\n",
       "      <td>5</td>\n",
       "    </tr>\n",
       "    <tr>\n",
       "      <th>27</th>\n",
       "      <td>Rocquefort</td>\n",
       "      <td>5</td>\n",
       "    </tr>\n",
       "    <tr>\n",
       "      <th>28</th>\n",
       "      <td>Fr.fondu.45</td>\n",
       "      <td>5</td>\n",
       "    </tr>\n",
       "  </tbody>\n",
       "</table>\n",
       "</div>"
      ],
      "text/plain": [
       "               Fromage  Groupe\n",
       "0   Yaourtlaitent.nat.       1\n",
       "1        Petitsuisse40       1\n",
       "2       Fr.frais40nat.       1\n",
       "3       Fr.frais20nat.       1\n",
       "4            Camembert       2\n",
       "5            Chabichou       2\n",
       "6             Chaource       2\n",
       "7   Fr.chevrepatemolle       2\n",
       "8             Beaufort       3\n",
       "9             Parmesan       3\n",
       "10               Comte       3\n",
       "11            Emmental       3\n",
       "12         PontlEveque       4\n",
       "13             Morbier       4\n",
       "14           Maroilles       4\n",
       "15                Edam       4\n",
       "16            Pyrenees       4\n",
       "17         SaintPaulin       4\n",
       "18             Cheddar       4\n",
       "19              Cantal       4\n",
       "20                Tome       4\n",
       "21             Babybel       4\n",
       "22            Vacherin       4\n",
       "23           Reblochon       4\n",
       "24         CarredelEst       5\n",
       "25         Coulomniers       5\n",
       "26                Bleu       5\n",
       "27          Rocquefort       5\n",
       "28         Fr.fondu.45       5"
      ]
     },
     "execution_count": 12,
     "metadata": {},
     "output_type": "execute_result"
    }
   ],
   "source": [
    "pd.DataFrame({\"Fromage\" : fromages_type.to_numpy()[index_cah], \"Groupe\" : classes_cah[index_cah]})"
   ]
  },
  {
   "cell_type": "markdown",
   "metadata": {},
   "source": [
    "### Cas pratique 1  CAH\n",
    "- Chargez les données iris contenues dans `sklearn.datasets`  \n",
    "- Faites une classification ascendante hiérarchique et comparez vos résultats avec les espèces connues des fleurs"
   ]
  },
  {
   "cell_type": "code",
   "execution_count": 13,
   "metadata": {},
   "outputs": [],
   "source": [
    "from sklearn.datasets import load_iris\n",
    "iris = load_iris()\n",
    "values, target = load_iris(return_X_y=True)"
   ]
  },
  {
   "cell_type": "code",
   "execution_count": 14,
   "metadata": {},
   "outputs": [],
   "source": [
    "# on centre-réduit\n",
    "#sc_iris = StandardScaler()\n",
    "#iris_cr = sc_iris.fit_transform(values)"
   ]
  },
  {
   "cell_type": "code",
   "execution_count": 15,
   "metadata": {},
   "outputs": [
    {
     "data": {
      "text/plain": [
       "[(149, 4), (150, 4)]"
      ]
     },
     "execution_count": 15,
     "metadata": {},
     "output_type": "execute_result"
    }
   ],
   "source": [
    "# on détermine la matrice des liens \n",
    "Z = linkage(values,method='ward',metric='euclidean')\n",
    "[Z.shape, values.shape]"
   ]
  },
  {
   "cell_type": "code",
   "execution_count": 16,
   "metadata": {
    "scrolled": false
   },
   "outputs": [
    {
     "data": {
      "text/plain": [
       "array([[1.01000000e+02, 1.42000000e+02, 0.00000000e+00, 2.00000000e+00],\n",
       "       [7.00000000e+00, 3.90000000e+01, 1.00000000e-01, 2.00000000e+00],\n",
       "       [0.00000000e+00, 1.70000000e+01, 1.00000000e-01, 2.00000000e+00],\n",
       "       [9.00000000e+00, 3.40000000e+01, 1.00000000e-01, 2.00000000e+00],\n",
       "       [1.28000000e+02, 1.32000000e+02, 1.00000000e-01, 2.00000000e+00],\n",
       "       [1.00000000e+01, 4.80000000e+01, 1.00000000e-01, 2.00000000e+00],\n",
       "       [4.00000000e+00, 3.70000000e+01, 1.41421356e-01, 2.00000000e+00],\n",
       "       [1.90000000e+01, 2.10000000e+01, 1.41421356e-01, 2.00000000e+00],\n",
       "       [2.90000000e+01, 3.00000000e+01, 1.41421356e-01, 2.00000000e+00],\n",
       "       [5.70000000e+01, 9.30000000e+01, 1.41421356e-01, 2.00000000e+00],\n",
       "       [8.00000000e+01, 8.10000000e+01, 1.41421356e-01, 2.00000000e+00],\n",
       "       [1.16000000e+02, 1.37000000e+02, 1.41421356e-01, 2.00000000e+00],\n",
       "       [8.00000000e+00, 3.80000000e+01, 1.41421356e-01, 2.00000000e+00],\n",
       "       [3.00000000e+00, 4.70000000e+01, 1.41421356e-01, 2.00000000e+00],\n",
       "       [2.70000000e+01, 2.80000000e+01, 1.41421356e-01, 2.00000000e+00],\n",
       "       [8.20000000e+01, 9.20000000e+01, 1.41421356e-01, 2.00000000e+00],\n",
       "       [9.50000000e+01, 9.60000000e+01, 1.41421356e-01, 2.00000000e+00],\n",
       "       [1.27000000e+02, 1.38000000e+02, 1.41421356e-01, 2.00000000e+00],\n",
       "       [1.00000000e+00, 4.50000000e+01, 1.41421356e-01, 2.00000000e+00],\n",
       "       [6.30000000e+01, 9.10000000e+01, 1.41421356e-01, 2.00000000e+00],\n",
       "       [6.50000000e+01, 7.50000000e+01, 1.41421356e-01, 2.00000000e+00],\n",
       "       [4.00000000e+01, 1.52000000e+02, 1.73205081e-01, 3.00000000e+00],\n",
       "       [1.23000000e+02, 1.26000000e+02, 1.73205081e-01, 2.00000000e+00],\n",
       "       [4.90000000e+01, 1.51000000e+02, 1.73205081e-01, 3.00000000e+00],\n",
       "       [1.12000000e+02, 1.39000000e+02, 1.73205081e-01, 2.00000000e+00],\n",
       "       [9.40000000e+01, 9.90000000e+01, 1.73205081e-01, 2.00000000e+00],\n",
       "       [1.20000000e+01, 1.68000000e+02, 1.82574186e-01, 3.00000000e+00],\n",
       "       [8.80000000e+01, 1.66000000e+02, 1.82574186e-01, 3.00000000e+00],\n",
       "       [6.60000000e+01, 8.40000000e+01, 2.00000000e-01, 2.00000000e+00],\n",
       "       [2.30000000e+01, 2.60000000e+01, 2.00000000e-01, 2.00000000e+00],\n",
       "       [5.30000000e+01, 8.90000000e+01, 2.00000000e-01, 2.00000000e+00],\n",
       "       [7.40000000e+01, 9.70000000e+01, 2.00000000e-01, 2.00000000e+00],\n",
       "       [2.50000000e+01, 1.53000000e+02, 2.08166600e-01, 3.00000000e+00],\n",
       "       [4.60000000e+01, 1.57000000e+02, 2.16024690e-01, 3.00000000e+00],\n",
       "       [2.00000000e+00, 1.63000000e+02, 2.16024690e-01, 3.00000000e+00],\n",
       "       [1.10000000e+02, 1.47000000e+02, 2.23606798e-01, 2.00000000e+00],\n",
       "       [1.20000000e+02, 1.43000000e+02, 2.23606798e-01, 2.00000000e+00],\n",
       "       [1.36000000e+02, 1.48000000e+02, 2.44948974e-01, 2.00000000e+00],\n",
       "       [7.80000000e+01, 1.69000000e+02, 2.44948974e-01, 3.00000000e+00],\n",
       "       [6.90000000e+01, 1.60000000e+02, 2.44948974e-01, 3.00000000e+00],\n",
       "       [5.40000000e+01, 5.80000000e+01, 2.44948974e-01, 2.00000000e+00],\n",
       "       [1.40000000e+02, 1.44000000e+02, 2.44948974e-01, 2.00000000e+00],\n",
       "       [1.41000000e+02, 1.45000000e+02, 2.44948974e-01, 2.00000000e+00],\n",
       "       [4.30000000e+01, 1.79000000e+02, 2.58198890e-01, 3.00000000e+00],\n",
       "       [6.80000000e+01, 8.70000000e+01, 2.64575131e-01, 2.00000000e+00],\n",
       "       [5.00000000e+01, 5.20000000e+01, 2.64575131e-01, 2.00000000e+00],\n",
       "       [5.10000000e+01, 5.60000000e+01, 2.64575131e-01, 2.00000000e+00],\n",
       "       [1.07000000e+02, 1.30000000e+02, 2.64575131e-01, 2.00000000e+00],\n",
       "       [1.05000000e+02, 1.22000000e+02, 2.64575131e-01, 2.00000000e+00],\n",
       "       [1.03000000e+02, 1.61000000e+02, 2.70801280e-01, 3.00000000e+00],\n",
       "       [1.64000000e+02, 1.71000000e+02, 2.75680975e-01, 5.00000000e+00],\n",
       "       [2.00000000e+01, 3.10000000e+01, 2.82842712e-01, 2.00000000e+00],\n",
       "       [1.10000000e+01, 1.58000000e+02, 2.94392029e-01, 3.00000000e+00],\n",
       "       [6.70000000e+01, 1.65000000e+02, 2.94392029e-01, 3.00000000e+00],\n",
       "       [7.00000000e+01, 1.67000000e+02, 2.94392029e-01, 3.00000000e+00],\n",
       "       [4.20000000e+01, 1.62000000e+02, 2.94392029e-01, 3.00000000e+00],\n",
       "       [1.13000000e+02, 1.50000000e+02, 3.05505046e-01, 3.00000000e+00],\n",
       "       [6.00000000e+00, 1.84000000e+02, 3.13581462e-01, 4.00000000e+00],\n",
       "       [1.73000000e+02, 2.00000000e+02, 3.14642654e-01, 8.00000000e+00],\n",
       "       [5.50000000e+01, 9.00000000e+01, 3.16227766e-01, 2.00000000e+00],\n",
       "       [1.76000000e+02, 1.82000000e+02, 3.16227766e-01, 6.00000000e+00],\n",
       "       [8.60000000e+01, 1.95000000e+02, 3.21455025e-01, 3.00000000e+00],\n",
       "       [1.24000000e+02, 1.86000000e+02, 3.31662479e-01, 3.00000000e+00],\n",
       "       [8.30000000e+01, 1.33000000e+02, 3.31662479e-01, 2.00000000e+00],\n",
       "       [5.00000000e+00, 1.80000000e+01, 3.31662479e-01, 2.00000000e+00],\n",
       "       [1.30000000e+01, 2.05000000e+02, 3.36650165e-01, 4.00000000e+00],\n",
       "       [1.75000000e+02, 1.77000000e+02, 3.41565026e-01, 5.00000000e+00],\n",
       "       [3.20000000e+01, 3.30000000e+01, 3.46410162e-01, 2.00000000e+00],\n",
       "       [1.25000000e+02, 1.29000000e+02, 3.46410162e-01, 2.00000000e+00],\n",
       "       [1.04000000e+02, 1.54000000e+02, 3.51188458e-01, 3.00000000e+00],\n",
       "       [7.30000000e+01, 1.88000000e+02, 3.53553391e-01, 4.00000000e+00],\n",
       "       [1.49000000e+02, 2.04000000e+02, 3.58236421e-01, 4.00000000e+00],\n",
       "       [1.46000000e+02, 1.72000000e+02, 3.60555128e-01, 3.00000000e+00],\n",
       "       [1.21000000e+02, 2.06000000e+02, 3.62859018e-01, 4.00000000e+00],\n",
       "       [3.60000000e+01, 1.55000000e+02, 3.69684550e-01, 3.00000000e+00],\n",
       "       [7.60000000e+01, 1.90000000e+02, 3.74165739e-01, 3.00000000e+00],\n",
       "       [1.15000000e+02, 1.87000000e+02, 3.74165739e-01, 3.00000000e+00],\n",
       "       [6.10000000e+01, 7.10000000e+01, 4.00000000e-01, 2.00000000e+00],\n",
       "       [1.56000000e+02, 2.08000000e+02, 4.06201920e-01, 1.00000000e+01],\n",
       "       [7.20000000e+01, 2.13000000e+02, 4.12310563e-01, 3.00000000e+00],\n",
       "       [1.17000000e+02, 1.31000000e+02, 4.12310563e-01, 2.00000000e+00],\n",
       "       [1.91000000e+02, 2.12000000e+02, 4.14728827e-01, 5.00000000e+00],\n",
       "       [2.40000000e+01, 2.02000000e+02, 4.22295315e-01, 4.00000000e+00],\n",
       "       [9.80000000e+01, 1.59000000e+02, 4.39696865e-01, 3.00000000e+00],\n",
       "       [1.60000000e+01, 2.24000000e+02, 4.39696865e-01, 4.00000000e+00],\n",
       "       [3.50000000e+01, 2.10000000e+02, 4.39696865e-01, 7.00000000e+00],\n",
       "       [6.40000000e+01, 7.90000000e+01, 4.47213595e-01, 2.00000000e+00],\n",
       "       [8.50000000e+01, 1.96000000e+02, 4.58257569e-01, 3.00000000e+00],\n",
       "       [7.70000000e+01, 1.85000000e+02, 4.65474668e-01, 3.00000000e+00],\n",
       "       [4.40000000e+01, 1.83000000e+02, 4.67261526e-01, 4.00000000e+00],\n",
       "       [1.11000000e+02, 1.99000000e+02, 4.81317636e-01, 4.00000000e+00],\n",
       "       [1.80000000e+02, 1.89000000e+02, 4.81663783e-01, 5.00000000e+00],\n",
       "       [1.02000000e+02, 2.18000000e+02, 4.89897949e-01, 3.00000000e+00],\n",
       "       [1.74000000e+02, 1.92000000e+02, 5.14781507e-01, 4.00000000e+00],\n",
       "       [1.81000000e+02, 2.27000000e+02, 5.29150262e-01, 4.00000000e+00],\n",
       "       [1.70000000e+02, 2.25000000e+02, 5.32916504e-01, 5.00000000e+00],\n",
       "       [1.18000000e+02, 1.98000000e+02, 5.38516481e-01, 3.00000000e+00],\n",
       "       [1.40000000e+01, 1.50000000e+01, 5.47722558e-01, 2.00000000e+00],\n",
       "       [1.78000000e+02, 2.09000000e+02, 5.74456265e-01, 4.00000000e+00],\n",
       "       [2.22000000e+02, 2.29000000e+02, 5.80229840e-01, 6.00000000e+00],\n",
       "       [2.01000000e+02, 2.34000000e+02, 5.94418483e-01, 6.00000000e+00],\n",
       "       [1.14000000e+02, 2.23000000e+02, 6.05805249e-01, 5.00000000e+00],\n",
       "       [6.00000000e+01, 2.33000000e+02, 6.13731755e-01, 4.00000000e+00],\n",
       "       [2.17000000e+02, 2.47000000e+02, 6.24499800e-01, 4.00000000e+00],\n",
       "       [5.90000000e+01, 2.41000000e+02, 6.30872412e-01, 6.00000000e+00],\n",
       "       [2.07000000e+02, 2.32000000e+02, 6.36396103e-01, 8.00000000e+00],\n",
       "       [1.97000000e+02, 2.42000000e+02, 6.40312424e-01, 5.00000000e+00],\n",
       "       [6.20000000e+01, 2.03000000e+02, 6.42910051e-01, 4.00000000e+00],\n",
       "       [2.14000000e+02, 2.50000000e+02, 6.62696512e-01, 8.00000000e+00],\n",
       "       [1.19000000e+02, 1.94000000e+02, 7.09459888e-01, 3.00000000e+00],\n",
       "       [1.00000000e+02, 2.26000000e+02, 7.24568837e-01, 4.00000000e+00],\n",
       "       [1.08000000e+02, 2.19000000e+02, 7.32575366e-01, 4.00000000e+00],\n",
       "       [2.16000000e+02, 2.48000000e+02, 7.34090518e-01, 9.00000000e+00],\n",
       "       [2.11000000e+02, 2.45000000e+02, 7.34960316e-01, 8.00000000e+00],\n",
       "       [2.40000000e+02, 2.61000000e+02, 7.63216876e-01, 8.00000000e+00],\n",
       "       [1.93000000e+02, 2.39000000e+02, 7.76285416e-01, 7.00000000e+00],\n",
       "       [1.09000000e+02, 1.35000000e+02, 8.06225775e-01, 2.00000000e+00],\n",
       "       [2.35000000e+02, 2.55000000e+02, 8.18738868e-01, 1.50000000e+01],\n",
       "       [2.38000000e+02, 2.43000000e+02, 8.21873585e-01, 7.00000000e+00],\n",
       "       [2.36000000e+02, 2.54000000e+02, 8.26135582e-01, 8.00000000e+00],\n",
       "       [2.20000000e+01, 2.15000000e+02, 8.55569985e-01, 5.00000000e+00],\n",
       "       [2.20000000e+02, 2.44000000e+02, 8.64580823e-01, 8.00000000e+00],\n",
       "       [2.28000000e+02, 2.65000000e+02, 9.09981993e-01, 1.70000000e+01],\n",
       "       [2.57000000e+02, 2.69000000e+02, 9.28708781e-01, 1.20000000e+01],\n",
       "       [1.34000000e+02, 2.49000000e+02, 9.29157324e-01, 7.00000000e+00],\n",
       "       [2.21000000e+02, 2.37000000e+02, 1.00534287e+00, 7.00000000e+00],\n",
       "       [2.31000000e+02, 2.60000000e+02, 1.04705937e+00, 9.00000000e+00],\n",
       "       [4.10000000e+01, 2.70000000e+02, 1.10513951e+00, 6.00000000e+00],\n",
       "       [2.30000000e+02, 2.66000000e+02, 1.15325626e+00, 4.00000000e+00],\n",
       "       [1.06000000e+02, 2.62000000e+02, 1.21700908e+00, 1.00000000e+01],\n",
       "       [2.53000000e+02, 2.58000000e+02, 1.25399362e+00, 1.20000000e+01],\n",
       "       [2.59000000e+02, 2.74000000e+02, 1.30486270e+00, 1.00000000e+01],\n",
       "       [2.67000000e+02, 2.77000000e+02, 1.37126983e+00, 2.10000000e+01],\n",
       "       [2.64000000e+02, 2.68000000e+02, 1.41139074e+00, 1.50000000e+01],\n",
       "       [2.71000000e+02, 2.75000000e+02, 1.49547731e+00, 1.50000000e+01],\n",
       "       [2.46000000e+02, 2.78000000e+02, 1.59776630e+00, 7.00000000e+00],\n",
       "       [2.51000000e+02, 2.81000000e+02, 1.75916647e+00, 1.50000000e+01],\n",
       "       [2.76000000e+02, 2.83000000e+02, 1.76044502e+00, 2.40000000e+01],\n",
       "       [2.56000000e+02, 2.85000000e+02, 1.84584475e+00, 1.20000000e+01],\n",
       "       [2.73000000e+02, 2.79000000e+02, 1.91608028e+00, 2.20000000e+01],\n",
       "       [2.72000000e+02, 2.80000000e+02, 1.91875287e+00, 2.90000000e+01],\n",
       "       [2.63000000e+02, 2.84000000e+02, 2.05363058e+00, 2.30000000e+01],\n",
       "       [2.52000000e+02, 2.89000000e+02, 2.81393883e+00, 2.60000000e+01],\n",
       "       [2.86000000e+02, 2.91000000e+02, 2.86941764e+00, 3.80000000e+01],\n",
       "       [2.82000000e+02, 2.90000000e+02, 3.82805262e+00, 5.00000000e+01],\n",
       "       [2.87000000e+02, 2.88000000e+02, 4.84770851e+00, 3.60000000e+01],\n",
       "       [2.92000000e+02, 2.93000000e+02, 6.39940682e+00, 6.40000000e+01],\n",
       "       [2.95000000e+02, 2.96000000e+02, 1.23003961e+01, 1.00000000e+02],\n",
       "       [2.94000000e+02, 2.97000000e+02, 3.24476070e+01, 1.50000000e+02]])"
      ]
     },
     "execution_count": 16,
     "metadata": {},
     "output_type": "execute_result"
    }
   ],
   "source": [
    "Z"
   ]
  },
  {
   "cell_type": "code",
   "execution_count": 23,
   "metadata": {},
   "outputs": [
    {
     "data": {
      "text/html": [
       "<div>\n",
       "<style scoped>\n",
       "    .dataframe tbody tr th:only-of-type {\n",
       "        vertical-align: middle;\n",
       "    }\n",
       "\n",
       "    .dataframe tbody tr th {\n",
       "        vertical-align: top;\n",
       "    }\n",
       "\n",
       "    .dataframe thead th {\n",
       "        text-align: right;\n",
       "    }\n",
       "</style>\n",
       "<table border=\"1\" class=\"dataframe\">\n",
       "  <thead>\n",
       "    <tr style=\"text-align: right;\">\n",
       "      <th></th>\n",
       "      <th>sepal length (cm)</th>\n",
       "      <th>sepal width (cm)</th>\n",
       "      <th>petal length (cm)</th>\n",
       "      <th>petal width (cm)</th>\n",
       "    </tr>\n",
       "  </thead>\n",
       "  <tbody>\n",
       "    <tr>\n",
       "      <th>0</th>\n",
       "      <td>5.1</td>\n",
       "      <td>3.5</td>\n",
       "      <td>1.4</td>\n",
       "      <td>0.2</td>\n",
       "    </tr>\n",
       "    <tr>\n",
       "      <th>1</th>\n",
       "      <td>4.9</td>\n",
       "      <td>3.0</td>\n",
       "      <td>1.4</td>\n",
       "      <td>0.2</td>\n",
       "    </tr>\n",
       "    <tr>\n",
       "      <th>2</th>\n",
       "      <td>4.7</td>\n",
       "      <td>3.2</td>\n",
       "      <td>1.3</td>\n",
       "      <td>0.2</td>\n",
       "    </tr>\n",
       "    <tr>\n",
       "      <th>3</th>\n",
       "      <td>4.6</td>\n",
       "      <td>3.1</td>\n",
       "      <td>1.5</td>\n",
       "      <td>0.2</td>\n",
       "    </tr>\n",
       "    <tr>\n",
       "      <th>4</th>\n",
       "      <td>5.0</td>\n",
       "      <td>3.6</td>\n",
       "      <td>1.4</td>\n",
       "      <td>0.2</td>\n",
       "    </tr>\n",
       "    <tr>\n",
       "      <th>...</th>\n",
       "      <td>...</td>\n",
       "      <td>...</td>\n",
       "      <td>...</td>\n",
       "      <td>...</td>\n",
       "    </tr>\n",
       "    <tr>\n",
       "      <th>145</th>\n",
       "      <td>6.7</td>\n",
       "      <td>3.0</td>\n",
       "      <td>5.2</td>\n",
       "      <td>2.3</td>\n",
       "    </tr>\n",
       "    <tr>\n",
       "      <th>146</th>\n",
       "      <td>6.3</td>\n",
       "      <td>2.5</td>\n",
       "      <td>5.0</td>\n",
       "      <td>1.9</td>\n",
       "    </tr>\n",
       "    <tr>\n",
       "      <th>147</th>\n",
       "      <td>6.5</td>\n",
       "      <td>3.0</td>\n",
       "      <td>5.2</td>\n",
       "      <td>2.0</td>\n",
       "    </tr>\n",
       "    <tr>\n",
       "      <th>148</th>\n",
       "      <td>6.2</td>\n",
       "      <td>3.4</td>\n",
       "      <td>5.4</td>\n",
       "      <td>2.3</td>\n",
       "    </tr>\n",
       "    <tr>\n",
       "      <th>149</th>\n",
       "      <td>5.9</td>\n",
       "      <td>3.0</td>\n",
       "      <td>5.1</td>\n",
       "      <td>1.8</td>\n",
       "    </tr>\n",
       "  </tbody>\n",
       "</table>\n",
       "<p>150 rows × 4 columns</p>\n",
       "</div>"
      ],
      "text/plain": [
       "     sepal length (cm)  sepal width (cm)  petal length (cm)  petal width (cm)\n",
       "0                  5.1               3.5                1.4               0.2\n",
       "1                  4.9               3.0                1.4               0.2\n",
       "2                  4.7               3.2                1.3               0.2\n",
       "3                  4.6               3.1                1.5               0.2\n",
       "4                  5.0               3.6                1.4               0.2\n",
       "..                 ...               ...                ...               ...\n",
       "145                6.7               3.0                5.2               2.3\n",
       "146                6.3               2.5                5.0               1.9\n",
       "147                6.5               3.0                5.2               2.0\n",
       "148                6.2               3.4                5.4               2.3\n",
       "149                5.9               3.0                5.1               1.8\n",
       "\n",
       "[150 rows x 4 columns]"
      ]
     },
     "execution_count": 23,
     "metadata": {},
     "output_type": "execute_result"
    }
   ],
   "source": [
    "iris = pd.DataFrame(iris.data, columns = iris.feature_names)\n",
    "iris\n"
   ]
  },
  {
   "cell_type": "code",
   "execution_count": 18,
   "metadata": {},
   "outputs": [
    {
     "data": {
      "image/png": "[encoded data removed]",
      "text/plain": [
       "<Figure size 864x864 with 1 Axes>"
      ]
     },
     "metadata": {
      "needs_background": "light"
     },
     "output_type": "display_data"
    }
   ],
   "source": [
    "fig = plt.figure(figsize=(12,12))\n",
    "ax = fig.add_subplot(1,1,1)\n",
    "ax.set_title(\"Dendogramme de classification des iris\")\n",
    "dendrogram(Z, orientation='top',color_threshold=7)\n",
    "ax.axhline(y=7,c=\"red\",linewidth=1,zorder=0)\n",
    "plt.show()"
   ]
  },
  {
   "cell_type": "code",
   "execution_count": 28,
   "metadata": {},
   "outputs": [
    {
     "data": {
      "text/plain": [
       "array([0, 0, 0, 0, 0, 0, 0, 0, 0, 0, 0, 0, 0, 0, 0, 0, 0, 0, 0, 0, 0, 0,\n",
       "       0, 0, 0, 0, 0, 0, 0, 0, 0, 0, 0, 0, 0, 0, 0, 0, 0, 0, 0, 0, 0, 0,\n",
       "       0, 0, 0, 0, 0, 0, 2, 2, 2, 2, 2, 2, 2, 2, 2, 2, 2, 2, 2, 2, 2, 2,\n",
       "       2, 2, 2, 2, 2, 2, 2, 2, 2, 2, 2, 1, 2, 2, 2, 2, 2, 2, 2, 2, 2, 2,\n",
       "       2, 2, 2, 2, 2, 2, 2, 2, 2, 2, 2, 2, 1, 2, 1, 1, 1, 1, 2, 1, 1, 1,\n",
       "       1, 1, 1, 2, 2, 1, 1, 1, 1, 2, 1, 2, 1, 2, 1, 1, 2, 2, 1, 1, 1, 1,\n",
       "       1, 2, 2, 1, 1, 1, 2, 1, 1, 1, 2, 1, 1, 1, 2, 1, 1, 2], dtype=int32)"
      ]
     },
     "execution_count": 28,
     "metadata": {},
     "output_type": "execute_result"
    }
   ],
   "source": [
    "from scipy.cluster.hierarchy import fcluster\n",
    "classes_cahIris = fcluster(Z, t = 7, criterion = 'distance')\n",
    "\n",
    "classes_cahIris-1"
   ]
  },
  {
   "cell_type": "code",
   "execution_count": 27,
   "metadata": {},
   "outputs": [
    {
     "data": {
      "text/plain": [
       "array([0, 0, 0, 0, 0, 0, 0, 0, 0, 0, 0, 0, 0, 0, 0, 0, 0, 0, 0, 0, 0, 0,\n",
       "       0, 0, 0, 0, 0, 0, 0, 0, 0, 0, 0, 0, 0, 0, 0, 0, 0, 0, 0, 0, 0, 0,\n",
       "       0, 0, 0, 0, 0, 0, 1, 1, 1, 1, 1, 1, 1, 1, 1, 1, 1, 1, 1, 1, 1, 1,\n",
       "       1, 1, 1, 1, 1, 1, 1, 1, 1, 1, 1, 1, 1, 1, 1, 1, 1, 1, 1, 1, 2, 2,\n",
       "       2, 2, 2, 2, 2, 2, 2, 2, 2, 2, 2, 2, 2, 2, 2, 2, 2, 2, 2, 2, 2, 2,\n",
       "       2, 2, 2, 2, 2, 2, 2, 2, 2, 2, 2, 2, 2, 2, 2, 2, 2, 2, 2, 2, 2, 2,\n",
       "       2, 2, 2, 2, 2, 2, 2, 2, 2, 2, 2, 2, 2, 2, 2, 2, 2, 2], dtype=int32)"
      ]
     },
     "execution_count": 27,
     "metadata": {},
     "output_type": "execute_result"
    }
   ],
   "source": [
    "# On trie par index\n",
    "index_cah = np.argsort(classes_cahIris)\n",
    "classes_cah[index_cah]-1\n"
   ]
  },
  {
   "cell_type": "code",
   "execution_count": 20,
   "metadata": {},
   "outputs": [
    {
     "data": {
      "text/html": [
       "<div>\n",
       "<style scoped>\n",
       "    .dataframe tbody tr th:only-of-type {\n",
       "        vertical-align: middle;\n",
       "    }\n",
       "\n",
       "    .dataframe tbody tr th {\n",
       "        vertical-align: top;\n",
       "    }\n",
       "\n",
       "    .dataframe thead th {\n",
       "        text-align: right;\n",
       "    }\n",
       "</style>\n",
       "<table border=\"1\" class=\"dataframe\">\n",
       "  <thead>\n",
       "    <tr style=\"text-align: right;\">\n",
       "      <th></th>\n",
       "      <th>Groupe</th>\n",
       "      <th>compare Target</th>\n",
       "    </tr>\n",
       "  </thead>\n",
       "  <tbody>\n",
       "    <tr>\n",
       "      <th>10</th>\n",
       "      <td>0</td>\n",
       "      <td>0</td>\n",
       "    </tr>\n",
       "    <tr>\n",
       "      <th>11</th>\n",
       "      <td>0</td>\n",
       "      <td>0</td>\n",
       "    </tr>\n",
       "    <tr>\n",
       "      <th>12</th>\n",
       "      <td>0</td>\n",
       "      <td>0</td>\n",
       "    </tr>\n",
       "    <tr>\n",
       "      <th>13</th>\n",
       "      <td>0</td>\n",
       "      <td>0</td>\n",
       "    </tr>\n",
       "    <tr>\n",
       "      <th>14</th>\n",
       "      <td>0</td>\n",
       "      <td>0</td>\n",
       "    </tr>\n",
       "    <tr>\n",
       "      <th>...</th>\n",
       "      <td>...</td>\n",
       "      <td>...</td>\n",
       "    </tr>\n",
       "    <tr>\n",
       "      <th>96</th>\n",
       "      <td>2</td>\n",
       "      <td>1</td>\n",
       "    </tr>\n",
       "    <tr>\n",
       "      <th>97</th>\n",
       "      <td>2</td>\n",
       "      <td>1</td>\n",
       "    </tr>\n",
       "    <tr>\n",
       "      <th>98</th>\n",
       "      <td>2</td>\n",
       "      <td>1</td>\n",
       "    </tr>\n",
       "    <tr>\n",
       "      <th>99</th>\n",
       "      <td>2</td>\n",
       "      <td>1</td>\n",
       "    </tr>\n",
       "    <tr>\n",
       "      <th>100</th>\n",
       "      <td>2</td>\n",
       "      <td>2</td>\n",
       "    </tr>\n",
       "  </tbody>\n",
       "</table>\n",
       "<p>91 rows × 2 columns</p>\n",
       "</div>"
      ],
      "text/plain": [
       "     Groupe  compare Target\n",
       "10        0               0\n",
       "11        0               0\n",
       "12        0               0\n",
       "13        0               0\n",
       "14        0               0\n",
       "..      ...             ...\n",
       "96        2               1\n",
       "97        2               1\n",
       "98        2               1\n",
       "99        2               1\n",
       "100       2               2\n",
       "\n",
       "[91 rows x 2 columns]"
      ]
     },
     "execution_count": 20,
     "metadata": {},
     "output_type": "execute_result"
    }
   ],
   "source": [
    "tablodeComparassion = pd.DataFrame({ \"Groupe\" : classes_cah[index_cah]-1, \"compare Target\" : target})\n",
    "tablodeComparassion[10\n",
    "                    :101]"
   ]
  },
  {
   "cell_type": "code",
   "execution_count": 50,
   "metadata": {},
   "outputs": [],
   "source": [
    "iris[\"target\"] = target\n",
    "iris[\"trouvé\"] = classes_cahIris-1\n",
    "iris\n",
    "def nove(columns):\n",
    "    if columns in [\"target\"]==2 & [\"trouvé\"]==1:\n",
    "        return 4\n",
    "    if columns in [\"target\"]==0:\n",
    "        return 0\n",
    "    if columns in [\"target\"]==1:\n",
    "        return 1\n",
    "    else:\n",
    "        return 2"
   ]
  },
  {
   "cell_type": "code",
   "execution_count": 56,
   "metadata": {},
   "outputs": [],
   "source": [
    "def sentiment(polarity):\n",
    "    if pd.isnull(polarity):\n",
    "        return None\n",
    "    else:\n",
    "        if polarity <0:\n",
    "            text = 'Negative'\n",
    "        if polarity == 0:\n",
    "            text = 'Neutral'\n",
    "        if polarity > 0:\n",
    "            text = 'Positive'\n",
    "    return text"
   ]
  },
  {
   "cell_type": "code",
   "execution_count": null,
   "metadata": {},
   "outputs": [],
   "source": [
    "iris['nove'] = iris[['target', \"trouvé\"]].apply(nov)\n",
    "dataJoin"
   ]
  },
  {
   "cell_type": "code",
   "execution_count": 57,
   "metadata": {},
   "outputs": [
    {
     "data": {
      "text/html": [
       "<div>\n",
       "<style scoped>\n",
       "    .dataframe tbody tr th:only-of-type {\n",
       "        vertical-align: middle;\n",
       "    }\n",
       "\n",
       "    .dataframe tbody tr th {\n",
       "        vertical-align: top;\n",
       "    }\n",
       "\n",
       "    .dataframe thead th {\n",
       "        text-align: right;\n",
       "    }\n",
       "</style>\n",
       "<table border=\"1\" class=\"dataframe\">\n",
       "  <thead>\n",
       "    <tr style=\"text-align: right;\">\n",
       "      <th></th>\n",
       "      <th>sepal length (cm)</th>\n",
       "      <th>sepal width (cm)</th>\n",
       "      <th>petal length (cm)</th>\n",
       "      <th>petal width (cm)</th>\n",
       "      <th>target</th>\n",
       "      <th>trouvé</th>\n",
       "      <th>nove</th>\n",
       "    </tr>\n",
       "  </thead>\n",
       "  <tbody>\n",
       "    <tr>\n",
       "      <th>0</th>\n",
       "      <td>5.1</td>\n",
       "      <td>3.5</td>\n",
       "      <td>1.4</td>\n",
       "      <td>0.2</td>\n",
       "      <td>0</td>\n",
       "      <td>0</td>\n",
       "      <td>8</td>\n",
       "    </tr>\n",
       "    <tr>\n",
       "      <th>1</th>\n",
       "      <td>4.9</td>\n",
       "      <td>3.0</td>\n",
       "      <td>1.4</td>\n",
       "      <td>0.2</td>\n",
       "      <td>0</td>\n",
       "      <td>0</td>\n",
       "      <td>8</td>\n",
       "    </tr>\n",
       "    <tr>\n",
       "      <th>2</th>\n",
       "      <td>4.7</td>\n",
       "      <td>3.2</td>\n",
       "      <td>1.3</td>\n",
       "      <td>0.2</td>\n",
       "      <td>0</td>\n",
       "      <td>0</td>\n",
       "      <td>8</td>\n",
       "    </tr>\n",
       "    <tr>\n",
       "      <th>3</th>\n",
       "      <td>4.6</td>\n",
       "      <td>3.1</td>\n",
       "      <td>1.5</td>\n",
       "      <td>0.2</td>\n",
       "      <td>0</td>\n",
       "      <td>0</td>\n",
       "      <td>8</td>\n",
       "    </tr>\n",
       "    <tr>\n",
       "      <th>4</th>\n",
       "      <td>5.0</td>\n",
       "      <td>3.6</td>\n",
       "      <td>1.4</td>\n",
       "      <td>0.2</td>\n",
       "      <td>0</td>\n",
       "      <td>0</td>\n",
       "      <td>8</td>\n",
       "    </tr>\n",
       "    <tr>\n",
       "      <th>...</th>\n",
       "      <td>...</td>\n",
       "      <td>...</td>\n",
       "      <td>...</td>\n",
       "      <td>...</td>\n",
       "      <td>...</td>\n",
       "      <td>...</td>\n",
       "      <td>...</td>\n",
       "    </tr>\n",
       "    <tr>\n",
       "      <th>145</th>\n",
       "      <td>6.7</td>\n",
       "      <td>3.0</td>\n",
       "      <td>5.2</td>\n",
       "      <td>2.3</td>\n",
       "      <td>2</td>\n",
       "      <td>1</td>\n",
       "      <td>8</td>\n",
       "    </tr>\n",
       "    <tr>\n",
       "      <th>146</th>\n",
       "      <td>6.3</td>\n",
       "      <td>2.5</td>\n",
       "      <td>5.0</td>\n",
       "      <td>1.9</td>\n",
       "      <td>2</td>\n",
       "      <td>2</td>\n",
       "      <td>8</td>\n",
       "    </tr>\n",
       "    <tr>\n",
       "      <th>147</th>\n",
       "      <td>6.5</td>\n",
       "      <td>3.0</td>\n",
       "      <td>5.2</td>\n",
       "      <td>2.0</td>\n",
       "      <td>2</td>\n",
       "      <td>1</td>\n",
       "      <td>8</td>\n",
       "    </tr>\n",
       "    <tr>\n",
       "      <th>148</th>\n",
       "      <td>6.2</td>\n",
       "      <td>3.4</td>\n",
       "      <td>5.4</td>\n",
       "      <td>2.3</td>\n",
       "      <td>2</td>\n",
       "      <td>1</td>\n",
       "      <td>8</td>\n",
       "    </tr>\n",
       "    <tr>\n",
       "      <th>149</th>\n",
       "      <td>5.9</td>\n",
       "      <td>3.0</td>\n",
       "      <td>5.1</td>\n",
       "      <td>1.8</td>\n",
       "      <td>2</td>\n",
       "      <td>2</td>\n",
       "      <td>8</td>\n",
       "    </tr>\n",
       "  </tbody>\n",
       "</table>\n",
       "<p>150 rows × 7 columns</p>\n",
       "</div>"
      ],
      "text/plain": [
       "     sepal length (cm)  sepal width (cm)  petal length (cm)  petal width (cm)  \\\n",
       "0                  5.1               3.5                1.4               0.2   \n",
       "1                  4.9               3.0                1.4               0.2   \n",
       "2                  4.7               3.2                1.3               0.2   \n",
       "3                  4.6               3.1                1.5               0.2   \n",
       "4                  5.0               3.6                1.4               0.2   \n",
       "..                 ...               ...                ...               ...   \n",
       "145                6.7               3.0                5.2               2.3   \n",
       "146                6.3               2.5                5.0               1.9   \n",
       "147                6.5               3.0                5.2               2.0   \n",
       "148                6.2               3.4                5.4               2.3   \n",
       "149                5.9               3.0                5.1               1.8   \n",
       "\n",
       "     target  trouvé  nove  \n",
       "0         0       0     8  \n",
       "1         0       0     8  \n",
       "2         0       0     8  \n",
       "3         0       0     8  \n",
       "4         0       0     8  \n",
       "..      ...     ...   ...  \n",
       "145       2       1     8  \n",
       "146       2       2     8  \n",
       "147       2       1     8  \n",
       "148       2       1     8  \n",
       "149       2       2     8  \n",
       "\n",
       "[150 rows x 7 columns]"
      ]
     },
     "execution_count": 57,
     "metadata": {},
     "output_type": "execute_result"
    }
   ],
   "source": [
    "iris[\"nove\"] = iris[\"nove\"].apply(nov)\n",
    "iris"
   ]
  },
  {
   "cell_type": "code",
   "execution_count": null,
   "metadata": {},
   "outputs": [],
   "source": [
    "iris[\"nove\"] = iris[\"nove\"].apply(lambda x:0 if x =='<=50K' else 1)"
   ]
  },
  {
   "cell_type": "code",
   "execution_count": null,
   "metadata": {},
   "outputs": [],
   "source": []
  },
  {
   "cell_type": "code",
   "execution_count": 21,
   "metadata": {},
   "outputs": [
    {
     "data": {
      "image/png": "[encoded data removed]",
      "text/plain": [
       "<Figure size 432x288 with 1 Axes>"
      ]
     },
     "metadata": {
      "needs_background": "light"
     },
     "output_type": "display_data"
    }
   ],
   "source": [
    "import seaborn as sns\n",
    "from sklearn.metrics import confusion_matrix\n",
    "\n",
    "cm = confusion_matrix(classes_cah[index_cah]-1, target)\n",
    "sns.heatmap(cm, square=True, annot=True, fmt='d', cbar=False)\n",
    "plt.xlabel('labels trouvé')\n",
    "plt.ylabel('labels réels');"
   ]
  },
  {
   "cell_type": "markdown",
   "metadata": {},
   "source": [
    "### Cas pratique 2  CAH\n",
    "- Faites tourner une CAH sur les données utilisées pour illustrer DBSCAN (code ci-dessous). Illustrez vos résultats avec un nuage de points qui changent de couleur par classe. A-t-on de meilleurs résultats qu'avec k-means?"
   ]
  },
  {
   "cell_type": "code",
   "execution_count": 22,
   "metadata": {
    "scrolled": true
   },
   "outputs": [
    {
     "ename": "NameError",
     "evalue": "name 'classes_cahBlob' is not defined",
     "output_type": "error",
     "traceback": [
      "\u001b[0;31m---------------------------------------------------------------------------\u001b[0m",
      "\u001b[0;31mNameError\u001b[0m                                 Traceback (most recent call last)",
      "\u001b[0;32m<ipython-input-22-a3024ffbcf48>\u001b[0m in \u001b[0;36m<module>\u001b[0;34m\u001b[0m\n\u001b[1;32m      9\u001b[0m \u001b[0mX\u001b[0m \u001b[0;34m=\u001b[0m \u001b[0mnp\u001b[0m\u001b[0;34m.\u001b[0m\u001b[0mdot\u001b[0m\u001b[0;34m(\u001b[0m\u001b[0mX\u001b[0m\u001b[0;34m,\u001b[0m \u001b[0mtransformation\u001b[0m\u001b[0;34m)\u001b[0m\u001b[0;34m\u001b[0m\u001b[0;34m\u001b[0m\u001b[0m\n\u001b[1;32m     10\u001b[0m \u001b[0;31m# plot\u001b[0m\u001b[0;34m\u001b[0m\u001b[0;34m\u001b[0m\u001b[0;34m\u001b[0m\u001b[0m\n\u001b[0;32m---> 11\u001b[0;31m \u001b[0mplt\u001b[0m\u001b[0;34m.\u001b[0m\u001b[0mscatter\u001b[0m\u001b[0;34m(\u001b[0m\u001b[0mX\u001b[0m\u001b[0;34m[\u001b[0m\u001b[0;34m:\u001b[0m\u001b[0;34m,\u001b[0m \u001b[0;36m0\u001b[0m\u001b[0;34m]\u001b[0m\u001b[0;34m,\u001b[0m \u001b[0mX\u001b[0m\u001b[0;34m[\u001b[0m\u001b[0;34m:\u001b[0m\u001b[0;34m,\u001b[0m \u001b[0;36m1\u001b[0m\u001b[0;34m]\u001b[0m\u001b[0;34m,\u001b[0m \u001b[0mc\u001b[0m \u001b[0;34m=\u001b[0m \u001b[0mclasses_cahBlob\u001b[0m\u001b[0;34m)\u001b[0m\u001b[0;34m\u001b[0m\u001b[0;34m\u001b[0m\u001b[0m\n\u001b[0m\u001b[1;32m     12\u001b[0m \u001b[0mplt\u001b[0m\u001b[0;34m.\u001b[0m\u001b[0mxlabel\u001b[0m\u001b[0;34m(\u001b[0m\u001b[0;34m\"Feature 0\"\u001b[0m\u001b[0;34m)\u001b[0m\u001b[0;34m\u001b[0m\u001b[0;34m\u001b[0m\u001b[0m\n\u001b[1;32m     13\u001b[0m \u001b[0mplt\u001b[0m\u001b[0;34m.\u001b[0m\u001b[0mylabel\u001b[0m\u001b[0;34m(\u001b[0m\u001b[0;34m\"Feature 1\"\u001b[0m\u001b[0;34m)\u001b[0m\u001b[0;34m\u001b[0m\u001b[0;34m\u001b[0m\u001b[0m\n",
      "\u001b[0;31mNameError\u001b[0m: name 'classes_cahBlob' is not defined"
     ]
    }
   ],
   "source": [
    "import numpy as np\n",
    "import matplotlib.pyplot as plt\n",
    "from sklearn.datasets import make_blobs\n",
    "# generate some random cluster data\n",
    "X, y = make_blobs(random_state=170, n_samples=600, centers = 5)\n",
    "rng = np.random.RandomState(74)\n",
    "# transform the data to be stretched\n",
    "transformation = rng.normal(size=(2, 2))\n",
    "X = np.dot(X, transformation)\n",
    "# plot\n",
    "plt.scatter(X[:, 0], X[:, 1], c = classes_cahBlob)\n",
    "plt.xlabel(\"Feature 0\")\n",
    "plt.ylabel(\"Feature 1\")\n",
    "plt.show()"
   ]
  },
  {
   "cell_type": "code",
   "execution_count": null,
   "metadata": {},
   "outputs": [],
   "source": [
    "# on centre-réduit\n",
    "sc_X = StandardScaler()\n",
    "X_cr = sc_X.fit_transform(X)"
   ]
  },
  {
   "cell_type": "code",
   "execution_count": null,
   "metadata": {},
   "outputs": [],
   "source": [
    "# on détermine la matrice des liens \n",
    "Z = linkage(X,method='ward',metric='euclidean')\n",
    "[Z.shape, X.shape]"
   ]
  },
  {
   "cell_type": "code",
   "execution_count": null,
   "metadata": {},
   "outputs": [],
   "source": [
    "fig = plt.figure(figsize=(12,12))\n",
    "ax = fig.add_subplot(1,1,1)\n",
    "ax.set_title(\"Dendogramme de classification des iris\")\n",
    "dendrogram(Z, orientation='top',color_threshold=30)\n",
    "ax.axhline(y=30,c=\"red\",linewidth=1,zorder=0)\n",
    "plt.show()"
   ]
  },
  {
   "cell_type": "code",
   "execution_count": null,
   "metadata": {},
   "outputs": [],
   "source": [
    "from scipy.cluster.hierarchy import fcluster\n",
    "classes_cahBlob = fcluster(Z, t = 30, criterion = 'distance')\n",
    "\n",
    "# On trie par index\n",
    "index_cah = np.argsort(classes_cahBlob)\n",
    "classes_cahBlob[index_cah]"
   ]
  },
  {
   "cell_type": "code",
   "execution_count": null,
   "metadata": {},
   "outputs": [],
   "source": [
    "import seaborn as sns\n",
    "from sklearn.metrics import confusion_matrix\n",
    "\n",
    "cm = confusion_matrix(classes_cahBlob, y+1)\n",
    "sns.heatmap(cm, square=True, annot=True, fmt='d', cbar=False)\n",
    "plt.xlabel('labels prédits')\n",
    "plt.ylabel('labels réels');"
   ]
  },
  {
   "cell_type": "code",
   "execution_count": null,
   "metadata": {},
   "outputs": [],
   "source": [
    "y"
   ]
  },
  {
   "cell_type": "code",
   "execution_count": null,
   "metadata": {},
   "outputs": [],
   "source": []
  }
 ],
 "metadata": {
  "kernelspec": {
   "display_name": "Python 3",
   "language": "python",
   "name": "python3"
  },
  "language_info": {
   "codemirror_mode": {
    "name": "ipython",
    "version": 3
   },
   "file_extension": ".py",
   "mimetype": "text/x-python",
   "name": "python",
   "nbconvert_exporter": "python",
   "pygments_lexer": "ipython3",
   "version": "3.7.6"
  }
 },
 "nbformat": 4,
 "nbformat_minor": 2
}
