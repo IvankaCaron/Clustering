{
 "cells": [
  {
   "cell_type": "markdown",
   "metadata": {},
   "source": [
    "# Classification en k - moyennes\n",
    "\n",
    "Ce type de classification non supervisée est un algorithme de machine learning très utile pour classifier rapidement des bases de données volumineuses. En effet, plutôt que de calculer les distances de l'ensemble des points entre eux, il va procéder ainsi :  \n",
    "- Il initialise un nombre de centroïdes (de classes) qu'il va placer dans l'espace des points de manière aléatoire.   \n",
    "- Il associe ensuite à chaque centroïde les points qui lui sont les plus proches, créant ainsi autant de classes que de centroïdes.  \n",
    "- Il déplace ensuite les centroïdes au centre de gravité de leur classe.  \n",
    "- Il répète les étapes précédentes jusqu'à la convergence du modèle.  \n",
    "\n",
    "\n"
   ]
  },
  {
   "cell_type": "markdown",
   "metadata": {},
   "source": [
    "Pour un nombre de classes donné, cet algorithme cherche à __minimiser la variance intra-classe__ et à __maximiser la variance inter-classes__. "
   ]
  },
  {
   "cell_type": "markdown",
   "metadata": {},
   "source": [
    "## k-means avec Python  \n",
    "\n",
    "Sur Python, on va utiliser la fonction Kmeans de scikit-learn. Elle propose de nombreux paramètres mais le seul qui nous intéresse pour l'instant c'est `n_clusters`, le nombre de classes voulu. On ajuste notre modèle sur nos données avec `.fit` et on obtient nos classes avec `. predict`. "
   ]
  },
  {
   "cell_type": "markdown",
   "metadata": {},
   "source": [
    "__À vous!__  \n",
    "- Faites tourner un modèle k-means sur les données `wine` disponibles dans scikit learn pour essayer de retrouver les 3 classes de vin.   \n",
    "- Comparez vos résultats avec la vraie classification. L'algorithme a-t-il su partitionner correctement les données?  \n"
   ]
  },
  {
   "cell_type": "code",
   "execution_count": 2,
   "metadata": {},
   "outputs": [],
   "source": [
    "import numpy as np\n",
    "import pandas as pd\n",
    "import matplotlib.pyplot as plt\n",
    "import seaborn as sns"
   ]
  },
  {
   "cell_type": "code",
   "execution_count": 13,
   "metadata": {},
   "outputs": [
    {
     "data": {
      "text/plain": [
       "GridSearchCV(cv=5, error_score=nan,\n",
       "             estimator=KMeans(algorithm='auto', copy_x=True, init='k-means++',\n",
       "                              max_iter=300, n_clusters=8, n_init=10,\n",
       "                              n_jobs=None, precompute_distances='auto',\n",
       "                              random_state=None, tol=0.0001, verbose=0),\n",
       "             iid='deprecated', n_jobs=None,\n",
       "             param_grid={'n_clusters': [1, 2, 3, 4, 5, 6, 7, 8, 9, 10, 11, 12,\n",
       "                                        13, 14, 15, 16, 17, 18, 19, 20, 21, 22,\n",
       "                                        23, 24, 25]},\n",
       "             pre_dispatch='2*n_jobs', refit=True, return_train_score=False,\n",
       "             scoring=None, verbose=0)"
      ]
     },
     "execution_count": 13,
     "metadata": {},
     "output_type": "execute_result"
    }
   ],
   "source": [
    "from sklearn.model_selection import GridSearchCV\n",
    "\n",
    "param_grid = {'n_clusters': list(range(1,26))}\n",
    "\n",
    "grid_cv = GridSearchCV(KMeans(), param_grid, cv=5)\n",
    "grid_cv.fit(dfX)"
   ]
  },
  {
   "cell_type": "code",
   "execution_count": 14,
   "metadata": {},
   "outputs": [
    {
     "data": {
      "text/plain": [
       "KMeans(algorithm='auto', copy_x=True, init='k-means++', max_iter=300,\n",
       "       n_clusters=23, n_init=10, n_jobs=None, precompute_distances='auto',\n",
       "       random_state=None, tol=0.0001, verbose=0)"
      ]
     },
     "execution_count": 14,
     "metadata": {},
     "output_type": "execute_result"
    }
   ],
   "source": [
    "grid_cv.best_estimator_"
   ]
  },
  {
   "cell_type": "code",
   "execution_count": 15,
   "metadata": {},
   "outputs": [
    {
     "data": {
      "text/plain": [
       "{'n_clusters': 23}"
      ]
     },
     "execution_count": 15,
     "metadata": {},
     "output_type": "execute_result"
    }
   ],
   "source": [
    "grid_cv.best_params_\n"
   ]
  },
  {
   "cell_type": "markdown",
   "metadata": {},
   "source": [
    "__On corrige ensemble__"
   ]
  },
  {
   "cell_type": "markdown",
   "metadata": {},
   "source": [
    "## Choisir le nombre de classes\n",
    "\n",
    "On voit bien que la convergence ou non de l'algorithme tient aussi bien aux données qu'au nombre de classes que l'on choisit. De plus, même si l'algorithme converge il n'est pas dit que le nombre de classes choisi soit pertinent. Que se passerait-il par exemple si nous avions choisi 2 classes pour l'exemple ci-dessus?"
   ]
  },
  {
   "cell_type": "markdown",
   "metadata": {},
   "source": [
    "Un outil indispensable pour mener une analyse en k-means est l'évolution de la distance de chaque point à son centroïde en fonction du nombre de classes choisi. Cette distance décroît avec le nombre de classes jusqu'à atteindre 0 lorsque le nombre de classes est égal au nombre d'observations. Sur Python, on obtient cette valeur en appelant `.inertia_` depuis un objet KMeans.    "
   ]
  },
  {
   "cell_type": "code",
   "execution_count": null,
   "metadata": {},
   "outputs": [],
   "source": []
  },
  {
   "cell_type": "markdown",
   "metadata": {},
   "source": [
    "## Limites des k-means\n",
    "\n",
    "La grande limite des k-means est sans doute que cet algorithme nécessite un choix a priori du nombre de classes. Il existe certes des outils comme le graphique que l'on vient de faire pour orienter notre décision mais il ne reflètera pas forcément la qualité de notre clustering.  \n",
    "\n",
    "Un bon exemple de cette limite peut s'illustrer avec les données suivantes : "
   ]
  },
  {
   "cell_type": "markdown",
   "metadata": {},
   "source": [
    "## Cas pratique 1 : classification des fromages  \n",
    "- Importez la base carac_fromages.txt et affichez quelques stats descriptives sur ses variables   \n",
    "\n",
    "On cherche à voir si certains fromages sont plus proches que d'autres en fonction de leurs caractéristiques.  \n",
    "\n",
    "- Transformez les variables numériques de manière à pouvoir mener une analyse en k-means.  \n",
    "- Justifiez un choix de nombre de classes avec cette méthode et opérez le clustering de ces données.  \n",
    "- Observez les noms des fromages d'une même classe. Trouvez-vous logique qu'ils soient associés?  \n",
    "- Faites une classification avec DBSCAN et comparez les résultats. \n"
   ]
  },
  {
   "cell_type": "code",
   "execution_count": 4,
   "metadata": {},
   "outputs": [
    {
     "data": {
      "text/html": [
       "<div>\n",
       "<style scoped>\n",
       "    .dataframe tbody tr th:only-of-type {\n",
       "        vertical-align: middle;\n",
       "    }\n",
       "\n",
       "    .dataframe tbody tr th {\n",
       "        vertical-align: top;\n",
       "    }\n",
       "\n",
       "    .dataframe thead th {\n",
       "        text-align: right;\n",
       "    }\n",
       "</style>\n",
       "<table border=\"1\" class=\"dataframe\">\n",
       "  <thead>\n",
       "    <tr style=\"text-align: right;\">\n",
       "      <th></th>\n",
       "      <th>Fromages</th>\n",
       "      <th>calories</th>\n",
       "      <th>sodium</th>\n",
       "      <th>calcium</th>\n",
       "      <th>lipides</th>\n",
       "      <th>retinol</th>\n",
       "      <th>folates</th>\n",
       "      <th>proteines</th>\n",
       "      <th>cholesterol</th>\n",
       "      <th>magnesium</th>\n",
       "    </tr>\n",
       "  </thead>\n",
       "  <tbody>\n",
       "    <tr>\n",
       "      <th>0</th>\n",
       "      <td>CarredelEst</td>\n",
       "      <td>314</td>\n",
       "      <td>353.5</td>\n",
       "      <td>72.6</td>\n",
       "      <td>26.3</td>\n",
       "      <td>51.6</td>\n",
       "      <td>30.3</td>\n",
       "      <td>21.0</td>\n",
       "      <td>70</td>\n",
       "      <td>20</td>\n",
       "    </tr>\n",
       "    <tr>\n",
       "      <th>1</th>\n",
       "      <td>Babybel</td>\n",
       "      <td>314</td>\n",
       "      <td>238.0</td>\n",
       "      <td>209.8</td>\n",
       "      <td>25.1</td>\n",
       "      <td>63.7</td>\n",
       "      <td>6.4</td>\n",
       "      <td>22.6</td>\n",
       "      <td>70</td>\n",
       "      <td>27</td>\n",
       "    </tr>\n",
       "    <tr>\n",
       "      <th>2</th>\n",
       "      <td>Beaufort</td>\n",
       "      <td>401</td>\n",
       "      <td>112.0</td>\n",
       "      <td>259.4</td>\n",
       "      <td>33.3</td>\n",
       "      <td>54.9</td>\n",
       "      <td>1.2</td>\n",
       "      <td>26.6</td>\n",
       "      <td>120</td>\n",
       "      <td>41</td>\n",
       "    </tr>\n",
       "    <tr>\n",
       "      <th>3</th>\n",
       "      <td>Bleu</td>\n",
       "      <td>342</td>\n",
       "      <td>336.0</td>\n",
       "      <td>211.1</td>\n",
       "      <td>28.9</td>\n",
       "      <td>37.1</td>\n",
       "      <td>27.5</td>\n",
       "      <td>20.2</td>\n",
       "      <td>90</td>\n",
       "      <td>27</td>\n",
       "    </tr>\n",
       "    <tr>\n",
       "      <th>4</th>\n",
       "      <td>Camembert</td>\n",
       "      <td>264</td>\n",
       "      <td>314.0</td>\n",
       "      <td>215.9</td>\n",
       "      <td>19.5</td>\n",
       "      <td>103.0</td>\n",
       "      <td>36.4</td>\n",
       "      <td>23.4</td>\n",
       "      <td>60</td>\n",
       "      <td>20</td>\n",
       "    </tr>\n",
       "  </tbody>\n",
       "</table>\n",
       "</div>"
      ],
      "text/plain": [
       "      Fromages  calories  sodium  calcium  lipides  retinol  folates  \\\n",
       "0  CarredelEst       314   353.5     72.6     26.3     51.6     30.3   \n",
       "1      Babybel       314   238.0    209.8     25.1     63.7      6.4   \n",
       "2     Beaufort       401   112.0    259.4     33.3     54.9      1.2   \n",
       "3         Bleu       342   336.0    211.1     28.9     37.1     27.5   \n",
       "4    Camembert       264   314.0    215.9     19.5    103.0     36.4   \n",
       "\n",
       "   proteines  cholesterol  magnesium  \n",
       "0       21.0           70         20  \n",
       "1       22.6           70         27  \n",
       "2       26.6          120         41  \n",
       "3       20.2           90         27  \n",
       "4       23.4           60         20  "
      ]
     },
     "execution_count": 4,
     "metadata": {},
     "output_type": "execute_result"
    }
   ],
   "source": [
    "import pandas as pd\n",
    "fromage = pd.read_csv('data/carac_fromages.txt', sep = \"\\t\")\n",
    "fromage.head()"
   ]
  },
  {
   "cell_type": "code",
   "execution_count": 5,
   "metadata": {},
   "outputs": [
    {
     "data": {
      "text/html": [
       "<div>\n",
       "<style scoped>\n",
       "    .dataframe tbody tr th:only-of-type {\n",
       "        vertical-align: middle;\n",
       "    }\n",
       "\n",
       "    .dataframe tbody tr th {\n",
       "        vertical-align: top;\n",
       "    }\n",
       "\n",
       "    .dataframe thead th {\n",
       "        text-align: right;\n",
       "    }\n",
       "</style>\n",
       "<table border=\"1\" class=\"dataframe\">\n",
       "  <thead>\n",
       "    <tr style=\"text-align: right;\">\n",
       "      <th></th>\n",
       "      <th>calories</th>\n",
       "      <th>sodium</th>\n",
       "      <th>calcium</th>\n",
       "      <th>lipides</th>\n",
       "      <th>retinol</th>\n",
       "      <th>folates</th>\n",
       "      <th>proteines</th>\n",
       "      <th>cholesterol</th>\n",
       "      <th>magnesium</th>\n",
       "    </tr>\n",
       "  </thead>\n",
       "  <tbody>\n",
       "    <tr>\n",
       "      <th>count</th>\n",
       "      <td>29.000000</td>\n",
       "      <td>29.000000</td>\n",
       "      <td>29.000000</td>\n",
       "      <td>29.000000</td>\n",
       "      <td>29.000000</td>\n",
       "      <td>29.000000</td>\n",
       "      <td>29.000000</td>\n",
       "      <td>29.000000</td>\n",
       "      <td>29.000000</td>\n",
       "    </tr>\n",
       "    <tr>\n",
       "      <th>mean</th>\n",
       "      <td>300.034483</td>\n",
       "      <td>210.086207</td>\n",
       "      <td>185.734483</td>\n",
       "      <td>24.158621</td>\n",
       "      <td>67.562069</td>\n",
       "      <td>13.010345</td>\n",
       "      <td>20.168966</td>\n",
       "      <td>74.586207</td>\n",
       "      <td>26.965517</td>\n",
       "    </tr>\n",
       "    <tr>\n",
       "      <th>std</th>\n",
       "      <td>91.914356</td>\n",
       "      <td>108.678923</td>\n",
       "      <td>72.528882</td>\n",
       "      <td>8.129642</td>\n",
       "      <td>24.163098</td>\n",
       "      <td>11.723339</td>\n",
       "      <td>6.959788</td>\n",
       "      <td>28.245755</td>\n",
       "      <td>11.318388</td>\n",
       "    </tr>\n",
       "    <tr>\n",
       "      <th>min</th>\n",
       "      <td>70.000000</td>\n",
       "      <td>22.000000</td>\n",
       "      <td>72.600000</td>\n",
       "      <td>3.400000</td>\n",
       "      <td>37.100000</td>\n",
       "      <td>1.200000</td>\n",
       "      <td>4.100000</td>\n",
       "      <td>10.000000</td>\n",
       "      <td>10.000000</td>\n",
       "    </tr>\n",
       "    <tr>\n",
       "      <th>25%</th>\n",
       "      <td>292.000000</td>\n",
       "      <td>140.000000</td>\n",
       "      <td>132.900000</td>\n",
       "      <td>23.400000</td>\n",
       "      <td>51.600000</td>\n",
       "      <td>4.900000</td>\n",
       "      <td>17.800000</td>\n",
       "      <td>70.000000</td>\n",
       "      <td>20.000000</td>\n",
       "    </tr>\n",
       "    <tr>\n",
       "      <th>50%</th>\n",
       "      <td>321.000000</td>\n",
       "      <td>223.000000</td>\n",
       "      <td>202.300000</td>\n",
       "      <td>26.300000</td>\n",
       "      <td>62.300000</td>\n",
       "      <td>6.400000</td>\n",
       "      <td>21.000000</td>\n",
       "      <td>80.000000</td>\n",
       "      <td>26.000000</td>\n",
       "    </tr>\n",
       "    <tr>\n",
       "      <th>75%</th>\n",
       "      <td>355.000000</td>\n",
       "      <td>276.000000</td>\n",
       "      <td>220.500000</td>\n",
       "      <td>29.100000</td>\n",
       "      <td>76.400000</td>\n",
       "      <td>21.100000</td>\n",
       "      <td>23.400000</td>\n",
       "      <td>90.000000</td>\n",
       "      <td>30.000000</td>\n",
       "    </tr>\n",
       "    <tr>\n",
       "      <th>max</th>\n",
       "      <td>406.000000</td>\n",
       "      <td>432.000000</td>\n",
       "      <td>334.600000</td>\n",
       "      <td>33.300000</td>\n",
       "      <td>150.500000</td>\n",
       "      <td>36.400000</td>\n",
       "      <td>35.700000</td>\n",
       "      <td>120.000000</td>\n",
       "      <td>51.000000</td>\n",
       "    </tr>\n",
       "  </tbody>\n",
       "</table>\n",
       "</div>"
      ],
      "text/plain": [
       "         calories      sodium     calcium    lipides     retinol    folates  \\\n",
       "count   29.000000   29.000000   29.000000  29.000000   29.000000  29.000000   \n",
       "mean   300.034483  210.086207  185.734483  24.158621   67.562069  13.010345   \n",
       "std     91.914356  108.678923   72.528882   8.129642   24.163098  11.723339   \n",
       "min     70.000000   22.000000   72.600000   3.400000   37.100000   1.200000   \n",
       "25%    292.000000  140.000000  132.900000  23.400000   51.600000   4.900000   \n",
       "50%    321.000000  223.000000  202.300000  26.300000   62.300000   6.400000   \n",
       "75%    355.000000  276.000000  220.500000  29.100000   76.400000  21.100000   \n",
       "max    406.000000  432.000000  334.600000  33.300000  150.500000  36.400000   \n",
       "\n",
       "       proteines  cholesterol  magnesium  \n",
       "count  29.000000    29.000000  29.000000  \n",
       "mean   20.168966    74.586207  26.965517  \n",
       "std     6.959788    28.245755  11.318388  \n",
       "min     4.100000    10.000000  10.000000  \n",
       "25%    17.800000    70.000000  20.000000  \n",
       "50%    21.000000    80.000000  26.000000  \n",
       "75%    23.400000    90.000000  30.000000  \n",
       "max    35.700000   120.000000  51.000000  "
      ]
     },
     "execution_count": 5,
     "metadata": {},
     "output_type": "execute_result"
    }
   ],
   "source": [
    "fromage.describe()"
   ]
  },
  {
   "cell_type": "code",
   "execution_count": 29,
   "metadata": {},
   "outputs": [
    {
     "data": {
      "text/plain": [
       "<seaborn.axisgrid.PairGrid at 0x7f517df73550>"
      ]
     },
     "execution_count": 29,
     "metadata": {},
     "output_type": "execute_result"
    },
    {
     "data": {
      "image/png": "[encoded data removed]",
      "text/plain": [
       "<Figure size 1620x1620 with 90 Axes>"
      ]
     },
     "metadata": {
      "needs_background": "light"
     },
     "output_type": "display_data"
    }
   ],
   "source": [
    "sns.pairplot(fromage)"
   ]
  },
  {
   "cell_type": "code",
   "execution_count": 12,
   "metadata": {},
   "outputs": [],
   "source": [
    "#from sklearn.preprocessing import StandardScaler\n",
    "\n",
    "#fromage.loc[:, fromage.columns !='Fromages'] = StandardScaler().fit_transform(fromage.loc[:, fromage.columns !='Fromages'])\n",
    "#fromage"
   ]
  },
  {
   "cell_type": "code",
   "execution_count": 8,
   "metadata": {},
   "outputs": [],
   "source": [
    "from sklearn.cluster import KMeans\n",
    "cls = KMeans(n_clusters=4).fit(fromage.loc[:, fromage.columns !='Fromages'])"
   ]
  },
  {
   "cell_type": "code",
   "execution_count": 9,
   "metadata": {},
   "outputs": [
    {
     "data": {
      "text/plain": [
       "array([3, 1, 2, 1, 3, 1, 3, 3, 1, 2, 3, 2, 2, 3, 1, 0, 0, 1, 1, 2, 0, 1,\n",
       "       1, 1, 1, 1, 1, 1, 0], dtype=int32)"
      ]
     },
     "execution_count": 9,
     "metadata": {},
     "output_type": "execute_result"
    }
   ],
   "source": [
    "cls.labels_"
   ]
  },
  {
   "cell_type": "code",
   "execution_count": 10,
   "metadata": {},
   "outputs": [
    {
     "data": {
      "text/html": [
       "<div>\n",
       "<style scoped>\n",
       "    .dataframe tbody tr th:only-of-type {\n",
       "        vertical-align: middle;\n",
       "    }\n",
       "\n",
       "    .dataframe tbody tr th {\n",
       "        vertical-align: top;\n",
       "    }\n",
       "\n",
       "    .dataframe thead th {\n",
       "        text-align: right;\n",
       "    }\n",
       "</style>\n",
       "<table border=\"1\" class=\"dataframe\">\n",
       "  <thead>\n",
       "    <tr style=\"text-align: right;\">\n",
       "      <th></th>\n",
       "      <th>Fromages</th>\n",
       "      <th>Classes</th>\n",
       "    </tr>\n",
       "  </thead>\n",
       "  <tbody>\n",
       "    <tr>\n",
       "      <th>28</th>\n",
       "      <td>Yaourtlaitent.nat.</td>\n",
       "      <td>0</td>\n",
       "    </tr>\n",
       "    <tr>\n",
       "      <th>20</th>\n",
       "      <td>Petitsuisse40</td>\n",
       "      <td>0</td>\n",
       "    </tr>\n",
       "    <tr>\n",
       "      <th>16</th>\n",
       "      <td>Fr.frais40nat.</td>\n",
       "      <td>0</td>\n",
       "    </tr>\n",
       "    <tr>\n",
       "      <th>15</th>\n",
       "      <td>Fr.frais20nat.</td>\n",
       "      <td>0</td>\n",
       "    </tr>\n",
       "    <tr>\n",
       "      <th>26</th>\n",
       "      <td>Tome</td>\n",
       "      <td>1</td>\n",
       "    </tr>\n",
       "    <tr>\n",
       "      <th>25</th>\n",
       "      <td>SaintPaulin</td>\n",
       "      <td>1</td>\n",
       "    </tr>\n",
       "    <tr>\n",
       "      <th>24</th>\n",
       "      <td>Rocquefort</td>\n",
       "      <td>1</td>\n",
       "    </tr>\n",
       "    <tr>\n",
       "      <th>23</th>\n",
       "      <td>Reblochon</td>\n",
       "      <td>1</td>\n",
       "    </tr>\n",
       "    <tr>\n",
       "      <th>22</th>\n",
       "      <td>Pyrenees</td>\n",
       "      <td>1</td>\n",
       "    </tr>\n",
       "    <tr>\n",
       "      <th>21</th>\n",
       "      <td>PontlEveque</td>\n",
       "      <td>1</td>\n",
       "    </tr>\n",
       "    <tr>\n",
       "      <th>18</th>\n",
       "      <td>Morbier</td>\n",
       "      <td>1</td>\n",
       "    </tr>\n",
       "    <tr>\n",
       "      <th>17</th>\n",
       "      <td>Maroilles</td>\n",
       "      <td>1</td>\n",
       "    </tr>\n",
       "    <tr>\n",
       "      <th>27</th>\n",
       "      <td>Vacherin</td>\n",
       "      <td>1</td>\n",
       "    </tr>\n",
       "    <tr>\n",
       "      <th>14</th>\n",
       "      <td>Fr.fondu.45</td>\n",
       "      <td>1</td>\n",
       "    </tr>\n",
       "    <tr>\n",
       "      <th>8</th>\n",
       "      <td>Cheddar</td>\n",
       "      <td>1</td>\n",
       "    </tr>\n",
       "    <tr>\n",
       "      <th>5</th>\n",
       "      <td>Cantal</td>\n",
       "      <td>1</td>\n",
       "    </tr>\n",
       "    <tr>\n",
       "      <th>3</th>\n",
       "      <td>Bleu</td>\n",
       "      <td>1</td>\n",
       "    </tr>\n",
       "    <tr>\n",
       "      <th>1</th>\n",
       "      <td>Babybel</td>\n",
       "      <td>1</td>\n",
       "    </tr>\n",
       "    <tr>\n",
       "      <th>12</th>\n",
       "      <td>Emmental</td>\n",
       "      <td>2</td>\n",
       "    </tr>\n",
       "    <tr>\n",
       "      <th>11</th>\n",
       "      <td>Edam</td>\n",
       "      <td>2</td>\n",
       "    </tr>\n",
       "    <tr>\n",
       "      <th>9</th>\n",
       "      <td>Comte</td>\n",
       "      <td>2</td>\n",
       "    </tr>\n",
       "    <tr>\n",
       "      <th>19</th>\n",
       "      <td>Parmesan</td>\n",
       "      <td>2</td>\n",
       "    </tr>\n",
       "    <tr>\n",
       "      <th>2</th>\n",
       "      <td>Beaufort</td>\n",
       "      <td>2</td>\n",
       "    </tr>\n",
       "    <tr>\n",
       "      <th>10</th>\n",
       "      <td>Coulomniers</td>\n",
       "      <td>3</td>\n",
       "    </tr>\n",
       "    <tr>\n",
       "      <th>7</th>\n",
       "      <td>Chaource</td>\n",
       "      <td>3</td>\n",
       "    </tr>\n",
       "    <tr>\n",
       "      <th>6</th>\n",
       "      <td>Chabichou</td>\n",
       "      <td>3</td>\n",
       "    </tr>\n",
       "    <tr>\n",
       "      <th>4</th>\n",
       "      <td>Camembert</td>\n",
       "      <td>3</td>\n",
       "    </tr>\n",
       "    <tr>\n",
       "      <th>13</th>\n",
       "      <td>Fr.chevrepatemolle</td>\n",
       "      <td>3</td>\n",
       "    </tr>\n",
       "    <tr>\n",
       "      <th>0</th>\n",
       "      <td>CarredelEst</td>\n",
       "      <td>3</td>\n",
       "    </tr>\n",
       "  </tbody>\n",
       "</table>\n",
       "</div>"
      ],
      "text/plain": [
       "              Fromages  Classes\n",
       "28  Yaourtlaitent.nat.        0\n",
       "20       Petitsuisse40        0\n",
       "16      Fr.frais40nat.        0\n",
       "15      Fr.frais20nat.        0\n",
       "26                Tome        1\n",
       "25         SaintPaulin        1\n",
       "24          Rocquefort        1\n",
       "23           Reblochon        1\n",
       "22            Pyrenees        1\n",
       "21         PontlEveque        1\n",
       "18             Morbier        1\n",
       "17           Maroilles        1\n",
       "27            Vacherin        1\n",
       "14         Fr.fondu.45        1\n",
       "8              Cheddar        1\n",
       "5               Cantal        1\n",
       "3                 Bleu        1\n",
       "1              Babybel        1\n",
       "12            Emmental        2\n",
       "11                Edam        2\n",
       "9                Comte        2\n",
       "19            Parmesan        2\n",
       "2             Beaufort        2\n",
       "10         Coulomniers        3\n",
       "7             Chaource        3\n",
       "6            Chabichou        3\n",
       "4            Camembert        3\n",
       "13  Fr.chevrepatemolle        3\n",
       "0          CarredelEst        3"
      ]
     },
     "execution_count": 10,
     "metadata": {},
     "output_type": "execute_result"
    }
   ],
   "source": [
    "fromage['Classes'] = cls.labels_\n",
    "fromage[[\"Fromages\", \"Classes\"]].sort_values('Classes')"
   ]
  },
  {
   "cell_type": "code",
   "execution_count": 11,
   "metadata": {},
   "outputs": [
    {
     "data": {
      "text/plain": [
       "[<matplotlib.lines.Line2D at 0x7f8f582faa50>]"
      ]
     },
     "execution_count": 11,
     "metadata": {},
     "output_type": "execute_result"
    },
    {
     "data": {
      "image/png": "[encoded data removed]",
      "text/plain": [
       "<Figure size 432x288 with 1 Axes>"
      ]
     },
     "metadata": {
      "needs_background": "light"
     },
     "output_type": "display_data"
    }
   ],
   "source": [
    "dist2=[]\n",
    "for x in range(1,10):\n",
    "    kmeans = KMeans( n_clusters=x).fit(fromage.loc[:, fromage.columns !='Fromages'])\n",
    "    #print(kmeans.inertia_)\n",
    "    dist2.append(kmeans.inertia_)\n",
    "plt.plot(dist2, marker = \"o\")"
   ]
  },
  {
   "cell_type": "code",
   "execution_count": 14,
   "metadata": {},
   "outputs": [],
   "source": [
    "from sklearn.decomposition import PCA"
   ]
  },
  {
   "cell_type": "code",
   "execution_count": 15,
   "metadata": {},
   "outputs": [
    {
     "name": "stdout",
     "output_type": "stream",
     "text": [
      "Explained variation per principal component : [0.5178261  0.23764366 0.09962289]\n"
     ]
    }
   ],
   "source": [
    "pca = PCA(n_components=3)\n",
    "pca_result = pca.fit_transform(fromage.loc[:, fromage.columns !='Fromages'])\n",
    "print('Explained variation per principal component : {}'.format(pca.explained_variance_ratio_))"
   ]
  },
  {
   "cell_type": "code",
   "execution_count": 21,
   "metadata": {},
   "outputs": [
    {
     "data": {
      "text/html": [
       "<div>\n",
       "<style scoped>\n",
       "    .dataframe tbody tr th:only-of-type {\n",
       "        vertical-align: middle;\n",
       "    }\n",
       "\n",
       "    .dataframe tbody tr th {\n",
       "        vertical-align: top;\n",
       "    }\n",
       "\n",
       "    .dataframe thead th {\n",
       "        text-align: right;\n",
       "    }\n",
       "</style>\n",
       "<table border=\"1\" class=\"dataframe\">\n",
       "  <thead>\n",
       "    <tr style=\"text-align: right;\">\n",
       "      <th></th>\n",
       "      <th>Fromages</th>\n",
       "      <th>calories</th>\n",
       "      <th>sodium</th>\n",
       "      <th>calcium</th>\n",
       "      <th>lipides</th>\n",
       "      <th>retinol</th>\n",
       "      <th>folates</th>\n",
       "      <th>proteines</th>\n",
       "      <th>cholesterol</th>\n",
       "      <th>magnesium</th>\n",
       "      <th>Classes</th>\n",
       "      <th>pca-one</th>\n",
       "      <th>pca-two</th>\n",
       "      <th>pca-three</th>\n",
       "    </tr>\n",
       "  </thead>\n",
       "  <tbody>\n",
       "    <tr>\n",
       "      <th>0</th>\n",
       "      <td>CarredelEst</td>\n",
       "      <td>0.15463</td>\n",
       "      <td>1.342968</td>\n",
       "      <td>-1.587464</td>\n",
       "      <td>0.268066</td>\n",
       "      <td>-0.672290</td>\n",
       "      <td>1.500911</td>\n",
       "      <td>0.121519</td>\n",
       "      <td>-0.165242</td>\n",
       "      <td>-0.626309</td>\n",
       "      <td>3</td>\n",
       "      <td>0.333483</td>\n",
       "      <td>2.252121</td>\n",
       "      <td>1.301805</td>\n",
       "    </tr>\n",
       "    <tr>\n",
       "      <th>1</th>\n",
       "      <td>Babybel</td>\n",
       "      <td>0.15463</td>\n",
       "      <td>0.261393</td>\n",
       "      <td>0.337679</td>\n",
       "      <td>0.117846</td>\n",
       "      <td>-0.162662</td>\n",
       "      <td>-0.573843</td>\n",
       "      <td>0.355480</td>\n",
       "      <td>-0.165242</td>\n",
       "      <td>0.003101</td>\n",
       "      <td>1</td>\n",
       "      <td>-0.378857</td>\n",
       "      <td>-0.604019</td>\n",
       "      <td>0.307946</td>\n",
       "    </tr>\n",
       "  </tbody>\n",
       "</table>\n",
       "</div>"
      ],
      "text/plain": [
       "      Fromages  calories    sodium   calcium   lipides   retinol   folates  \\\n",
       "0  CarredelEst   0.15463  1.342968 -1.587464  0.268066 -0.672290  1.500911   \n",
       "1      Babybel   0.15463  0.261393  0.337679  0.117846 -0.162662 -0.573843   \n",
       "\n",
       "   proteines  cholesterol  magnesium  Classes   pca-one   pca-two  pca-three  \n",
       "0   0.121519    -0.165242  -0.626309        3  0.333483  2.252121   1.301805  \n",
       "1   0.355480    -0.165242   0.003101        1 -0.378857 -0.604019   0.307946  "
      ]
     },
     "execution_count": 21,
     "metadata": {},
     "output_type": "execute_result"
    }
   ],
   "source": [
    "df = fromage.copy()\n",
    "df['pca-one'] = pca_result[:,0]\n",
    "df['pca-two'] = pca_result[:,1]\n",
    "df['pca-three'] = pca_result[:,2]\n",
    "df.head(2)"
   ]
  },
  {
   "cell_type": "code",
   "execution_count": 46,
   "metadata": {},
   "outputs": [],
   "source": [
    "kmeansPCA = KMeans(n_clusters=4)\n",
    "kmeansPCA.fit(pca_result)\n",
    "classes_5PCA = kmeansPCA.predict(pca_result)\n",
    "df['classes_5PCA'] =classes_5PCA"
   ]
  },
  {
   "cell_type": "code",
   "execution_count": 70,
   "metadata": {},
   "outputs": [
    {
     "data": {
      "text/plain": [
       "array([[-0.7126042 , -0.41085909,  0.73818895],\n",
       "       [ 4.71386221, -1.58107265, -0.4023834 ],\n",
       "       [ 0.7824935 ,  2.66725174, -0.30402344],\n",
       "       [-2.71479021, -0.78543853, -1.38019421]])"
      ]
     },
     "execution_count": 70,
     "metadata": {},
     "output_type": "execute_result"
    }
   ],
   "source": [
    "kmeansPCA.cluster_centers_"
   ]
  },
  {
   "cell_type": "code",
   "execution_count": 49,
   "metadata": {},
   "outputs": [
    {
     "data": {
      "text/html": [
       "<div>\n",
       "<style scoped>\n",
       "    .dataframe tbody tr th:only-of-type {\n",
       "        vertical-align: middle;\n",
       "    }\n",
       "\n",
       "    .dataframe tbody tr th {\n",
       "        vertical-align: top;\n",
       "    }\n",
       "\n",
       "    .dataframe thead th {\n",
       "        text-align: right;\n",
       "    }\n",
       "</style>\n",
       "<table border=\"1\" class=\"dataframe\">\n",
       "  <thead>\n",
       "    <tr style=\"text-align: right;\">\n",
       "      <th></th>\n",
       "      <th>Fromages</th>\n",
       "      <th>calories</th>\n",
       "      <th>sodium</th>\n",
       "      <th>calcium</th>\n",
       "      <th>lipides</th>\n",
       "      <th>retinol</th>\n",
       "      <th>folates</th>\n",
       "      <th>proteines</th>\n",
       "      <th>cholesterol</th>\n",
       "      <th>magnesium</th>\n",
       "      <th>Classes</th>\n",
       "      <th>pca-one</th>\n",
       "      <th>pca-two</th>\n",
       "      <th>pca-three</th>\n",
       "      <th>classes_5PCA</th>\n",
       "    </tr>\n",
       "  </thead>\n",
       "  <tbody>\n",
       "    <tr>\n",
       "      <th>0</th>\n",
       "      <td>CarredelEst</td>\n",
       "      <td>0.154630</td>\n",
       "      <td>1.342968</td>\n",
       "      <td>-1.587464</td>\n",
       "      <td>0.268066</td>\n",
       "      <td>-0.672290</td>\n",
       "      <td>1.500911</td>\n",
       "      <td>0.121519</td>\n",
       "      <td>-0.165242</td>\n",
       "      <td>-0.626309</td>\n",
       "      <td>3</td>\n",
       "      <td>0.333483</td>\n",
       "      <td>2.252121</td>\n",
       "      <td>1.301805</td>\n",
       "      <td>2</td>\n",
       "    </tr>\n",
       "    <tr>\n",
       "      <th>1</th>\n",
       "      <td>Babybel</td>\n",
       "      <td>0.154630</td>\n",
       "      <td>0.261393</td>\n",
       "      <td>0.337679</td>\n",
       "      <td>0.117846</td>\n",
       "      <td>-0.162662</td>\n",
       "      <td>-0.573843</td>\n",
       "      <td>0.355480</td>\n",
       "      <td>-0.165242</td>\n",
       "      <td>0.003101</td>\n",
       "      <td>1</td>\n",
       "      <td>-0.378857</td>\n",
       "      <td>-0.604019</td>\n",
       "      <td>0.307946</td>\n",
       "      <td>0</td>\n",
       "    </tr>\n",
       "    <tr>\n",
       "      <th>2</th>\n",
       "      <td>Beaufort</td>\n",
       "      <td>1.117917</td>\n",
       "      <td>-0.918507</td>\n",
       "      <td>1.033649</td>\n",
       "      <td>1.144354</td>\n",
       "      <td>-0.533301</td>\n",
       "      <td>-1.025253</td>\n",
       "      <td>0.940383</td>\n",
       "      <td>1.636269</td>\n",
       "      <td>1.261920</td>\n",
       "      <td>2</td>\n",
       "      <td>-2.941437</td>\n",
       "      <td>-0.873975</td>\n",
       "      <td>-0.898356</td>\n",
       "      <td>3</td>\n",
       "    </tr>\n",
       "    <tr>\n",
       "      <th>3</th>\n",
       "      <td>Bleu</td>\n",
       "      <td>0.464654</td>\n",
       "      <td>1.179093</td>\n",
       "      <td>0.355920</td>\n",
       "      <td>0.593544</td>\n",
       "      <td>-1.283000</td>\n",
       "      <td>1.257844</td>\n",
       "      <td>0.004538</td>\n",
       "      <td>0.555362</td>\n",
       "      <td>0.003101</td>\n",
       "      <td>1</td>\n",
       "      <td>-0.700955</td>\n",
       "      <td>0.158189</td>\n",
       "      <td>1.508308</td>\n",
       "      <td>0</td>\n",
       "    </tr>\n",
       "    <tr>\n",
       "      <th>4</th>\n",
       "      <td>Camembert</td>\n",
       "      <td>-0.398983</td>\n",
       "      <td>0.973078</td>\n",
       "      <td>0.423272</td>\n",
       "      <td>-0.583184</td>\n",
       "      <td>1.492574</td>\n",
       "      <td>2.030451</td>\n",
       "      <td>0.472461</td>\n",
       "      <td>-0.525544</td>\n",
       "      <td>-0.626309</td>\n",
       "      <td>3</td>\n",
       "      <td>0.632733</td>\n",
       "      <td>2.622877</td>\n",
       "      <td>-0.615674</td>\n",
       "      <td>2</td>\n",
       "    </tr>\n",
       "  </tbody>\n",
       "</table>\n",
       "</div>"
      ],
      "text/plain": [
       "      Fromages  calories    sodium   calcium   lipides   retinol   folates  \\\n",
       "0  CarredelEst  0.154630  1.342968 -1.587464  0.268066 -0.672290  1.500911   \n",
       "1      Babybel  0.154630  0.261393  0.337679  0.117846 -0.162662 -0.573843   \n",
       "2     Beaufort  1.117917 -0.918507  1.033649  1.144354 -0.533301 -1.025253   \n",
       "3         Bleu  0.464654  1.179093  0.355920  0.593544 -1.283000  1.257844   \n",
       "4    Camembert -0.398983  0.973078  0.423272 -0.583184  1.492574  2.030451   \n",
       "\n",
       "   proteines  cholesterol  magnesium  Classes   pca-one   pca-two  pca-three  \\\n",
       "0   0.121519    -0.165242  -0.626309        3  0.333483  2.252121   1.301805   \n",
       "1   0.355480    -0.165242   0.003101        1 -0.378857 -0.604019   0.307946   \n",
       "2   0.940383     1.636269   1.261920        2 -2.941437 -0.873975  -0.898356   \n",
       "3   0.004538     0.555362   0.003101        1 -0.700955  0.158189   1.508308   \n",
       "4   0.472461    -0.525544  -0.626309        3  0.632733  2.622877  -0.615674   \n",
       "\n",
       "   classes_5PCA  \n",
       "0             2  \n",
       "1             0  \n",
       "2             3  \n",
       "3             0  \n",
       "4             2  "
      ]
     },
     "execution_count": 49,
     "metadata": {},
     "output_type": "execute_result"
    }
   ],
   "source": [
    "df.head()"
   ]
  },
  {
   "cell_type": "code",
   "execution_count": 90,
   "metadata": {},
   "outputs": [
    {
     "data": {
      "image/png": "[encoded data removed]",
      "text/plain": [
       "<Figure size 432x288 with 1 Axes>"
      ]
     },
     "metadata": {
      "needs_background": "light"
     },
     "output_type": "display_data"
    }
   ],
   "source": [
    "import matplotlib.pyplot as plt\n",
    "import seaborn as sns\n",
    "import pandas as pd\n",
    "#sns.scatterplot(data = df, x = df['pca-one'], y = df['pca-two'], hue = df['classes_5PCA'], palette='rainbow')\n",
    "sns.scatterplot(data = df, x = df['pca-one'], y = df['pca-two'], hue = df['classes_5PCA'], palette='rainbow')\n",
    "#sns.scatterplot(kmeansPCA.cluster_centers_[:,0],kmeansPCA.cluster_centers_[:,1])\n",
    "plt.scatter(kmeansPCA.cluster_centers_[:,0],kmeansPCA.cluster_centers_[:,1])\n",
    "plt.scatter(km.cluster_centers_[:,0],km.cluster_centers_[:,1])\n",
    "plt.show()"
   ]
  },
  {
   "cell_type": "code",
   "execution_count": 128,
   "metadata": {},
   "outputs": [
    {
     "data": {
      "image/png": "[encoded data removed]",
      "text/plain": [
       "<Figure size 432x288 with 1 Axes>"
      ]
     },
     "metadata": {
      "needs_background": "light"
     },
     "output_type": "display_data"
    }
   ],
   "source": []
  },
  {
   "cell_type": "code",
   "execution_count": 148,
   "metadata": {},
   "outputs": [],
   "source": [
    "# on détermine la matrice des liens \n",
    "from scipy.cluster.hierarchy import dendrogram, linkage\n",
    "Z1 = linkage(pca_result,method='average',metric='euclidean')"
   ]
  },
  {
   "cell_type": "code",
   "execution_count": 150,
   "metadata": {},
   "outputs": [
    {
     "data": {
      "image/png": "[encoded data removed]",
      "text/plain": [
       "<Figure size 864x504 with 1 Axes>"
      ]
     },
     "metadata": {
      "needs_background": "light"
     },
     "output_type": "display_data"
    }
   ],
   "source": [
    "fromages_type = fromage.loc[:, \"Fromages\"]\n",
    "fig = plt.figure(figsize=(12,7))\n",
    "ax = fig.add_subplot(1,1,1)\n",
    "ax.set_title(\"Dendogramme de classification des fromages\")\n",
    "dendrogram(Z1,labels=fromages_type.to_numpy(), orientation='top',color_threshold=2.5)\n",
    "ax.axhline(y=2.5,c=\"red\",linewidth=1,zorder=0)\n",
    "plt.show()"
   ]
  },
  {
   "cell_type": "code",
   "execution_count": 151,
   "metadata": {},
   "outputs": [
    {
     "data": {
      "text/plain": [
       "array([4, 3, 2, 3, 4, 3, 4, 4, 3, 2, 4, 2, 2, 5, 3, 1, 1, 3, 3, 2, 1, 3,\n",
       "       3, 3, 3, 3, 3, 3, 1], dtype=int32)"
      ]
     },
     "execution_count": 151,
     "metadata": {},
     "output_type": "execute_result"
    }
   ],
   "source": [
    "from scipy.cluster.hierarchy import fcluster\n",
    "max_d = 2.5\n",
    "clusters = fcluster(Z1, max_d, criterion='distance')\n",
    "clusters\n",
    "\n"
   ]
  },
  {
   "cell_type": "code",
   "execution_count": 152,
   "metadata": {},
   "outputs": [],
   "source": [
    "df['classes_5PCA_CAH'] =clusters"
   ]
  },
  {
   "cell_type": "code",
   "execution_count": 153,
   "metadata": {},
   "outputs": [
    {
     "data": {
      "text/plain": [
       "{4: array([ 0.38658097,  2.49656869, -0.043515  ]),\n",
       " 3: array([-0.7126042 , -0.41085909,  0.73818895]),\n",
       " 2: array([-2.71479021, -0.78543853, -1.38019421]),\n",
       " 5: array([ 2.76205615,  3.520667  , -1.60656564]),\n",
       " 1: array([ 4.71386221, -1.58107265, -0.4023834 ])}"
      ]
     },
     "execution_count": 153,
     "metadata": {},
     "output_type": "execute_result"
    }
   ],
   "source": [
    "lens = {}      # will contain the lengths for each cluster\n",
    "centroids = {} # will contain the centroids of each cluster\n",
    "for idx,clno in enumerate(clusters):\n",
    "    centroids.setdefault(clno,np.zeros(3))   #nb de components ou features\n",
    "    centroids[clno] += pca_result[idx,:]\n",
    "    lens.setdefault(clno,0)\n",
    "    lens[clno] += 1\n",
    "# Divide by number of observations in each cluster to get the centroid\n",
    "for clno in centroids:\n",
    "    centroids[clno] /= float(lens[clno])\n",
    "centroids"
   ]
  },
  {
   "cell_type": "code",
   "execution_count": 154,
   "metadata": {},
   "outputs": [
    {
     "data": {
      "text/plain": [
       "array([[ 0.38658097,  2.49656869, -0.043515  ],\n",
       "       [-0.7126042 , -0.41085909,  0.73818895],\n",
       "       [-2.71479021, -0.78543853, -1.38019421],\n",
       "       [ 2.76205615,  3.520667  , -1.60656564],\n",
       "       [ 4.71386221, -1.58107265, -0.4023834 ]])"
      ]
     },
     "execution_count": 154,
     "metadata": {},
     "output_type": "execute_result"
    }
   ],
   "source": [
    "X = np.array([[0.38658097,  2.49656869, -0.043515],\n",
    "              [-0.7126042 , -0.41085909,  0.73818895],\n",
    "              [-2.71479021, -0.78543853, -1.38019421],\n",
    "             [ 2.76205615,  3.520667  , -1.60656564 ],\n",
    "             [ 4.71386221, -1.58107265, -0.4023834 ]],np.float64)\n",
    "km = KMeans(n_clusters=5,init=X, n_init=1).fit(pca_result)\n",
    "\n",
    "centers = km.cluster_centers_\n",
    "centers"
   ]
  },
  {
   "cell_type": "code",
   "execution_count": 137,
   "metadata": {},
   "outputs": [
    {
     "data": {
      "text/plain": [
       "array([[-0.7126042 , -0.41085909,  0.73818895],\n",
       "       [ 4.71386221, -1.58107265, -0.4023834 ],\n",
       "       [ 0.7824935 ,  2.66725174, -0.30402344],\n",
       "       [-2.71479021, -0.78543853, -1.38019421]])"
      ]
     },
     "execution_count": 137,
     "metadata": {},
     "output_type": "execute_result"
    }
   ],
   "source": [
    "kmeansPCA.cluster_centers_"
   ]
  },
  {
   "cell_type": "code",
   "execution_count": 155,
   "metadata": {},
   "outputs": [
    {
     "data": {
      "image/png": "[encoded data removed]",
      "text/plain": [
       "<Figure size 432x288 with 1 Axes>"
      ]
     },
     "metadata": {
      "needs_background": "light"
     },
     "output_type": "display_data"
    }
   ],
   "source": [
    "#sns.scatterplot(data = df, x = df['pca-one'], y = df['pca-two'], hue = df['classes_5PCA'], palette='rainbow')\n",
    "sns.scatterplot(data = df, x = df['pca-one'], y = df['pca-two'], hue = clusters, palette='rainbow')\n",
    "#sns.scatterplot(kmeansPCA.cluster_centers_[:,0],kmeansPCA.cluster_centers_[:,1])\n",
    "plt.scatter(kmeansPCA.cluster_centers_[:,0],kmeansPCA.cluster_centers_[:,1])\n",
    "plt.scatter(km.cluster_centers_[:,0],km.cluster_centers_[:,1])\n",
    "plt.show()"
   ]
  },
  {
   "cell_type": "code",
   "execution_count": null,
   "metadata": {},
   "outputs": [],
   "source": [
    "# c'est exactement pareil"
   ]
  },
  {
   "cell_type": "code",
   "execution_count": 99,
   "metadata": {},
   "outputs": [],
   "source": [
    "from scipy.spatial.distance import pdist\n",
    "y = pdist(pca_result)"
   ]
  },
  {
   "cell_type": "code",
   "execution_count": 102,
   "metadata": {},
   "outputs": [
    {
     "data": {
      "text/plain": [
       "array([[ 5.        , 17.        ,  0.20855621,  2.        ],\n",
       "       [16.        , 20.        ,  0.24350518,  2.        ],\n",
       "       [25.        , 27.        ,  0.32456183,  2.        ],\n",
       "       [ 1.        , 23.        ,  0.37140163,  2.        ],\n",
       "       [18.        , 22.        ,  0.37915034,  2.        ],\n",
       "       [ 2.        ,  9.        ,  0.48450272,  2.        ],\n",
       "       [ 4.        ,  7.        ,  0.48761409,  2.        ],\n",
       "       [14.        , 26.        ,  0.69172923,  2.        ],\n",
       "       [29.        , 33.        ,  0.71705299,  4.        ],\n",
       "       [21.        , 32.        ,  0.751587  ,  3.        ],\n",
       "       [ 6.        , 35.        ,  0.76418376,  3.        ],\n",
       "       [19.        , 34.        ,  0.79064007,  3.        ],\n",
       "       [ 3.        , 36.        ,  0.84527868,  3.        ],\n",
       "       [31.        , 38.        ,  0.84941461,  5.        ],\n",
       "       [12.        , 40.        ,  0.88542938,  4.        ],\n",
       "       [15.        , 30.        ,  0.88566674,  3.        ],\n",
       "       [ 0.        , 10.        ,  0.95448854,  2.        ],\n",
       "       [ 8.        , 37.        ,  1.0426621 ,  5.        ],\n",
       "       [42.        , 46.        ,  1.16182505, 10.        ],\n",
       "       [41.        , 47.        ,  1.41755036, 13.        ],\n",
       "       [11.        , 43.        ,  1.45752117,  5.        ],\n",
       "       [28.        , 44.        ,  1.69190732,  4.        ],\n",
       "       [39.        , 45.        ,  1.78023339,  5.        ],\n",
       "       [24.        , 48.        ,  2.06021444, 14.        ],\n",
       "       [49.        , 52.        ,  2.93881027, 19.        ],\n",
       "       [13.        , 51.        ,  3.02238101,  6.        ],\n",
       "       [53.        , 54.        ,  3.7966746 , 25.        ],\n",
       "       [50.        , 55.        ,  5.78631907, 29.        ]])"
      ]
     },
     "execution_count": 102,
     "metadata": {},
     "output_type": "execute_result"
    }
   ],
   "source": [
    "from scipy.cluster.hierarchy import centroid\n",
    "Z = centroid(y)\n",
    "Z"
   ]
  },
  {
   "cell_type": "code",
   "execution_count": 114,
   "metadata": {},
   "outputs": [
    {
     "data": {
      "text/plain": [
       "array([3, 2, 2, 2, 3, 2, 3, 3, 2, 2, 3, 2, 2, 4, 2, 1, 1, 2, 2, 2, 1, 2,\n",
       "       2, 2, 2, 2, 2, 2, 1], dtype=int32)"
      ]
     },
     "execution_count": 114,
     "metadata": {},
     "output_type": "execute_result"
    }
   ],
   "source": [
    "clusters2 = fcluster(Z, 3, criterion='distance')\n",
    "clusters2"
   ]
  },
  {
   "cell_type": "code",
   "execution_count": 115,
   "metadata": {},
   "outputs": [
    {
     "data": {
      "text/plain": [
       "{3: array([ 0.38658097,  2.49656869, -0.043515  ]),\n",
       " 2: array([-1.23949525, -0.50943262,  0.1807197 ]),\n",
       " 4: array([ 2.76205615,  3.520667  , -1.60656564]),\n",
       " 1: array([ 4.71386221, -1.58107265, -0.4023834 ])}"
      ]
     },
     "execution_count": 115,
     "metadata": {},
     "output_type": "execute_result"
    }
   ],
   "source": [
    "lens = {}      # will contain the lengths for each cluster\n",
    "centroids2 = {} # will contain the centroids of each cluster\n",
    "for idx,clno in enumerate(clusters2):\n",
    "    centroids2.setdefault(clno,np.zeros(3))   #nb de components ou features\n",
    "    centroids2[clno] += pca_result[idx,:]\n",
    "    lens.setdefault(clno,0)\n",
    "    lens[clno] += 1\n",
    "# Divide by number of observations in each cluster to get the centroid\n",
    "for clno in centroids2:\n",
    "    centroids2[clno] /= float(lens[clno])\n",
    "centroids2"
   ]
  },
  {
   "cell_type": "code",
   "execution_count": 116,
   "metadata": {},
   "outputs": [
    {
     "data": {
      "text/plain": [
       "array([[-0.7126042 , -0.41085909,  0.73818895],\n",
       "       [ 4.71386221, -1.58107265, -0.4023834 ],\n",
       "       [ 0.7824935 ,  2.66725174, -0.30402344],\n",
       "       [-2.71479021, -0.78543853, -1.38019421]])"
      ]
     },
     "execution_count": 116,
     "metadata": {},
     "output_type": "execute_result"
    }
   ],
   "source": [
    "kmeansPCA.cluster_centers_"
   ]
  },
  {
   "cell_type": "code",
   "execution_count": 118,
   "metadata": {},
   "outputs": [
    {
     "data": {
      "text/plain": [
       "array([[ 0.38658097,  2.49656869, -0.043515  ],\n",
       "       [-1.23949525, -0.50943262,  0.1807197 ],\n",
       "       [ 2.76205615,  3.520667  , -1.60656564],\n",
       "       [ 4.71386221, -1.58107265, -0.4023834 ]])"
      ]
     },
     "execution_count": 118,
     "metadata": {},
     "output_type": "execute_result"
    }
   ],
   "source": [
    "X2 = np.array([[ 0.38658097,  2.49656869, -0.043515  ],\n",
    "              [-1.23949525, -0.50943262,  0.1807197 ],\n",
    "              [ 2.76205615,  3.520667  , -1.60656564],\n",
    "             [ 4.71386221, -1.58107265, -0.4023834 ]],np.float64)\n",
    "km2 = KMeans(n_clusters=4,init=X2, n_init=1).fit(pca_result)\n",
    "\n",
    "centers2 = km2.cluster_centers_\n",
    "centers2"
   ]
  },
  {
   "cell_type": "code",
   "execution_count": 126,
   "metadata": {},
   "outputs": [
    {
     "data": {
      "image/png": "[encoded data removed]",
      "text/plain": [
       "<Figure size 432x288 with 1 Axes>"
      ]
     },
     "metadata": {
      "needs_background": "light"
     },
     "output_type": "display_data"
    }
   ],
   "source": [
    "#sns.scatterplot(data = df, x = df['pca-one'], y = df['pca-two'], hue = df['classes_5PCA'], palette='rainbow')\n",
    "sns.scatterplot(data = df, x = df['pca-one'], y = df['pca-two'], hue = clusters2, palette='rainbow')\n",
    "#sns.scatterplot(kmeansPCA.cluster_centers_[:,0],kmeansPCA.cluster_centers_[:,1])\n",
    "plt.scatter(kmeansPCA.cluster_centers_[:,0],kmeansPCA.cluster_centers_[:,1])\n",
    "plt.scatter(km2.cluster_centers_[:,0],km2.cluster_centers_[:,1])\n",
    "plt.show()"
   ]
  },
  {
   "cell_type": "code",
   "execution_count": 157,
   "metadata": {},
   "outputs": [],
   "source": [
    "#https://towardsdatascience.com/clustering-with-more-than-two-features-try-this-to-explain-your-findings-b053007d680a\n",
    "import plotly.express as px\n",
    "fig = px.scatter_matrix(fromage.loc[:, fromage.columns !='Fromages'],\n",
    "width=1200, height=1600)\n",
    "#fig.show()"
   ]
  },
  {
   "cell_type": "code",
   "execution_count": 158,
   "metadata": {},
   "outputs": [
    {
     "data": {
      "text/plain": [
       "KMeans(algorithm='auto', copy_x=True, init='k-means++', max_iter=300,\n",
       "       n_clusters=4, n_init=10, n_jobs=None, precompute_distances='auto',\n",
       "       random_state=42, tol=0.0001, verbose=0)"
      ]
     },
     "execution_count": 158,
     "metadata": {},
     "output_type": "execute_result"
    }
   ],
   "source": [
    "kmeans3 = KMeans(\n",
    "        n_clusters=4, init=\"k-means++\",\n",
    "        n_init=10,\n",
    "        tol=1e-04, random_state=42\n",
    "    )\n",
    "kmeans3.fit(fromage.loc[:, fromage.columns !='Fromages'])\n"
   ]
  },
  {
   "cell_type": "code",
   "execution_count": 160,
   "metadata": {},
   "outputs": [],
   "source": [
    "clusters3=pd.DataFrame(fromage.loc[:, fromage.columns !='Fromages'])\n",
    "clusters3['label']=kmeans3.labels_\n",
    "polar=clusters3.groupby(\"label\").mean().reset_index()\n",
    "polar=pd.melt(polar,id_vars=[\"label\"])\n",
    "fig4 = px.line_polar(polar, r=\"value\", theta=\"variable\", color=\"label\", line_close=True,height=800,width=1400)\n",
    "#fig.show()"
   ]
  },
  {
   "cell_type": "code",
   "execution_count": null,
   "metadata": {},
   "outputs": [],
   "source": []
  }
 ],
 "metadata": {
  "kernelspec": {
   "display_name": "Python 3",
   "language": "python",
   "name": "python3"
  },
  "language_info": {
   "codemirror_mode": {
    "name": "ipython",
    "version": 3
   },
   "file_extension": ".py",
   "mimetype": "text/x-python",
   "name": "python",
   "nbconvert_exporter": "python",
   "pygments_lexer": "ipython3",
   "version": "3.7.6"
  }
 },
 "nbformat": 4,
 "nbformat_minor": 2
}
